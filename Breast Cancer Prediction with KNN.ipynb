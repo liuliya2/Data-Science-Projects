{
  "nbformat": 4,
  "nbformat_minor": 0,
  "metadata": {
    "colab": {
      "name": "F21_APS1070_Project_1_final.ipynb",
      "provenance": [],
      "collapsed_sections": []
    },
    "kernelspec": {
      "display_name": "Python 3 (ipykernel)",
      "language": "python",
      "name": "python3"
    },
    "language_info": {
      "codemirror_mode": {
        "name": "ipython",
        "version": 3
      },
      "file_extension": ".py",
      "mimetype": "text/x-python",
      "name": "python",
      "nbconvert_exporter": "python",
      "pygments_lexer": "ipython3",
      "version": "3.7.11"
    }
  },
  "cells": [
    {
      "cell_type": "markdown",
      "metadata": {
        "id": "08owH-AVyZCX"
      },
      "source": [
        "# APS1070\n",
        "#### Basic Principles and Models - Project 1\n",
        "**Deadline: Oct 1, 9PM - 10 percent**"
      ]
    },
    {
      "cell_type": "markdown",
      "metadata": {
        "id": "fRZ3wBoe398S"
      },
      "source": [
        "**Academic Integrity**\n",
        "\n",
        "This project is individual - it is to be completed on your own. If you have questions, please post your query in the APS1070 Piazza Q&A forums (the answer might be useful to others!).\n",
        "\n",
        "Do not share your code with others, or post your work online. Do not submit code that you have not written yourself. Students suspected of plagiarism on a project, midterm or exam will be referred to the department for formal discipline for breaches of the Student Code of Conduct."
      ]
    },
    {
      "cell_type": "markdown",
      "metadata": {
        "id": "qonbueFGyemb"
      },
      "source": [
        "Name: Liyan Liu  *(here and elsewhere, please replace the underscore with your answer)*\n",
        "\n",
        "Student ID: 1002896100"
      ]
    },
    {
      "cell_type": "markdown",
      "metadata": {
        "id": "Dykrw3cyy7PF"
      },
      "source": [
        "##**Marking Scheme:**\n",
        "\n",
        "This project is worth **10 percent** of your final grade.\n",
        "\n",
        "Draw a plot or table where necessary to summarize your findings. \n",
        "\n",
        "**Practice Vectorized coding**: If you need to write a loop in your solution, think about how you can implement the same functionality with vectorized operations. Try to avoid loops as much as possible (in some cases, loops are inevitable).\n",
        "\n",
        "\n",
        " <font color='red'>**Remember to push your work on GitHub and share the link of your private repo on Quercus.**</font> \n",
        "\n",
        "\n"
      ]
    },
    {
      "cell_type": "markdown",
      "metadata": {
        "id": "yYlo7mIXyZFe"
      },
      "source": [
        "# Project 1 [10 Marks] \n",
        "Let's apply the tools we have learned in the tutorial to a new dataset.\n",
        "\n",
        "We're going to work with a breast cancer dataset. Download it using the cell below:"
      ]
    },
    {
      "cell_type": "code",
      "metadata": {
        "id": "YFo8KVcryZFe"
      },
      "source": [
        "from sklearn.datasets import load_breast_cancer\n",
        "dataset = load_breast_cancer()"
      ],
      "execution_count": null,
      "outputs": []
    },
    {
      "cell_type": "markdown",
      "metadata": {
        "id": "gOGmwyQNyZFh"
      },
      "source": [
        "## Part 1: Getting started [2 Marks]\n",
        "First off, take a look at the `data`, `target` and `feature_names` entries in the `dataset` dictionary. They contain the information we'll be working with here. Then, create a Pandas DataFrame called `df` containing the data and the targets, with the feature names as column headings. If you need help, see [here](https://pandas.pydata.org/pandas-docs/stable/reference/api/pandas.DataFrame.html) for more details on how to achieve this. **[0.4]**\n",
        "* How many features do we have in this dataset?  569\n",
        "* How many observations have a 'mean area' of greater than 700?  171\n",
        "* How many participants tested `Malignant`?  212\n",
        "* How many participants tested `Benign`?  357"
      ]
    },
    {
      "cell_type": "code",
      "metadata": {
        "colab": {
          "base_uri": "https://localhost:8080/"
        },
        "id": "LJk8uQnza_kl",
        "outputId": "7ce9654e-788f-40ff-fdf5-de8e7250c517"
      },
      "source": [
        "dataset['data']"
      ],
      "execution_count": null,
      "outputs": [
        {
          "data": {
            "text/plain": [
              "array([[1.799e+01, 1.038e+01, 1.228e+02, ..., 2.654e-01, 4.601e-01,\n",
              "        1.189e-01],\n",
              "       [2.057e+01, 1.777e+01, 1.329e+02, ..., 1.860e-01, 2.750e-01,\n",
              "        8.902e-02],\n",
              "       [1.969e+01, 2.125e+01, 1.300e+02, ..., 2.430e-01, 3.613e-01,\n",
              "        8.758e-02],\n",
              "       ...,\n",
              "       [1.660e+01, 2.808e+01, 1.083e+02, ..., 1.418e-01, 2.218e-01,\n",
              "        7.820e-02],\n",
              "       [2.060e+01, 2.933e+01, 1.401e+02, ..., 2.650e-01, 4.087e-01,\n",
              "        1.240e-01],\n",
              "       [7.760e+00, 2.454e+01, 4.792e+01, ..., 0.000e+00, 2.871e-01,\n",
              "        7.039e-02]])"
            ]
          },
          "execution_count": 2,
          "metadata": {},
          "output_type": "execute_result"
        }
      ]
    },
    {
      "cell_type": "code",
      "metadata": {
        "colab": {
          "base_uri": "https://localhost:8080/"
        },
        "id": "yGAsbcnmbNiu",
        "outputId": "4696ab90-b812-46f3-c8ae-258f7636d3f3"
      },
      "source": [
        "dataset['target']"
      ],
      "execution_count": null,
      "outputs": [
        {
          "data": {
            "text/plain": [
              "array([0, 0, 0, 0, 0, 0, 0, 0, 0, 0, 0, 0, 0, 0, 0, 0, 0, 0, 0, 1, 1, 1,\n",
              "       0, 0, 0, 0, 0, 0, 0, 0, 0, 0, 0, 0, 0, 0, 0, 1, 0, 0, 0, 0, 0, 0,\n",
              "       0, 0, 1, 0, 1, 1, 1, 1, 1, 0, 0, 1, 0, 0, 1, 1, 1, 1, 0, 1, 0, 0,\n",
              "       1, 1, 1, 1, 0, 1, 0, 0, 1, 0, 1, 0, 0, 1, 1, 1, 0, 0, 1, 0, 0, 0,\n",
              "       1, 1, 1, 0, 1, 1, 0, 0, 1, 1, 1, 0, 0, 1, 1, 1, 1, 0, 1, 1, 0, 1,\n",
              "       1, 1, 1, 1, 1, 1, 1, 0, 0, 0, 1, 0, 0, 1, 1, 1, 0, 0, 1, 0, 1, 0,\n",
              "       0, 1, 0, 0, 1, 1, 0, 1, 1, 0, 1, 1, 1, 1, 0, 1, 1, 1, 1, 1, 1, 1,\n",
              "       1, 1, 0, 1, 1, 1, 1, 0, 0, 1, 0, 1, 1, 0, 0, 1, 1, 0, 0, 1, 1, 1,\n",
              "       1, 0, 1, 1, 0, 0, 0, 1, 0, 1, 0, 1, 1, 1, 0, 1, 1, 0, 0, 1, 0, 0,\n",
              "       0, 0, 1, 0, 0, 0, 1, 0, 1, 0, 1, 1, 0, 1, 0, 0, 0, 0, 1, 1, 0, 0,\n",
              "       1, 1, 1, 0, 1, 1, 1, 1, 1, 0, 0, 1, 1, 0, 1, 1, 0, 0, 1, 0, 1, 1,\n",
              "       1, 1, 0, 1, 1, 1, 1, 1, 0, 1, 0, 0, 0, 0, 0, 0, 0, 0, 0, 0, 0, 0,\n",
              "       0, 0, 1, 1, 1, 1, 1, 1, 0, 1, 0, 1, 1, 0, 1, 1, 0, 1, 0, 0, 1, 1,\n",
              "       1, 1, 1, 1, 1, 1, 1, 1, 1, 1, 1, 0, 1, 1, 0, 1, 0, 1, 1, 1, 1, 1,\n",
              "       1, 1, 1, 1, 1, 1, 1, 1, 1, 0, 1, 1, 1, 0, 1, 0, 1, 1, 1, 1, 0, 0,\n",
              "       0, 1, 1, 1, 1, 0, 1, 0, 1, 0, 1, 1, 1, 0, 1, 1, 1, 1, 1, 1, 1, 0,\n",
              "       0, 0, 1, 1, 1, 1, 1, 1, 1, 1, 1, 1, 1, 0, 0, 1, 0, 0, 0, 1, 0, 0,\n",
              "       1, 1, 1, 1, 1, 0, 1, 1, 1, 1, 1, 0, 1, 1, 1, 0, 1, 1, 0, 0, 1, 1,\n",
              "       1, 1, 1, 1, 0, 1, 1, 1, 1, 1, 1, 1, 0, 1, 1, 1, 1, 1, 0, 1, 1, 0,\n",
              "       1, 1, 1, 1, 1, 1, 1, 1, 1, 1, 1, 1, 0, 1, 0, 0, 1, 0, 1, 1, 1, 1,\n",
              "       1, 0, 1, 1, 0, 1, 0, 1, 1, 0, 1, 0, 1, 1, 1, 1, 1, 1, 1, 1, 0, 0,\n",
              "       1, 1, 1, 1, 1, 1, 0, 1, 1, 1, 1, 1, 1, 1, 1, 1, 1, 0, 1, 1, 1, 1,\n",
              "       1, 1, 1, 0, 1, 0, 1, 1, 0, 1, 1, 1, 1, 1, 0, 0, 1, 0, 1, 0, 1, 1,\n",
              "       1, 1, 1, 0, 1, 1, 0, 1, 0, 1, 0, 0, 1, 1, 1, 0, 1, 1, 1, 1, 1, 1,\n",
              "       1, 1, 1, 1, 1, 0, 1, 0, 0, 1, 1, 1, 1, 1, 1, 1, 1, 1, 1, 1, 1, 1,\n",
              "       1, 1, 1, 1, 1, 1, 1, 1, 1, 1, 1, 1, 0, 0, 0, 0, 0, 0, 1])"
            ]
          },
          "execution_count": 3,
          "metadata": {},
          "output_type": "execute_result"
        }
      ]
    },
    {
      "cell_type": "code",
      "metadata": {
        "colab": {
          "base_uri": "https://localhost:8080/"
        },
        "id": "C4ZiduJcbN8v",
        "outputId": "ac23679b-aa31-42aa-865e-931e79c1ef83"
      },
      "source": [
        "dataset['feature_names']"
      ],
      "execution_count": null,
      "outputs": [
        {
          "data": {
            "text/plain": [
              "array(['mean radius', 'mean texture', 'mean perimeter', 'mean area',\n",
              "       'mean smoothness', 'mean compactness', 'mean concavity',\n",
              "       'mean concave points', 'mean symmetry', 'mean fractal dimension',\n",
              "       'radius error', 'texture error', 'perimeter error', 'area error',\n",
              "       'smoothness error', 'compactness error', 'concavity error',\n",
              "       'concave points error', 'symmetry error',\n",
              "       'fractal dimension error', 'worst radius', 'worst texture',\n",
              "       'worst perimeter', 'worst area', 'worst smoothness',\n",
              "       'worst compactness', 'worst concavity', 'worst concave points',\n",
              "       'worst symmetry', 'worst fractal dimension'], dtype='<U23')"
            ]
          },
          "execution_count": 4,
          "metadata": {},
          "output_type": "execute_result"
        }
      ]
    },
    {
      "cell_type": "code",
      "metadata": {
        "colab": {
          "base_uri": "https://localhost:8080/",
          "height": 878
        },
        "id": "R4gc0L680Ggf",
        "outputId": "53453f74-f798-4be7-93a9-8fee03b69d50"
      },
      "source": [
        "import pandas as pd\n",
        "df=pd.DataFrame(data=dataset['data'],columns=dataset['feature_names'])\n",
        "df['target']=dataset['target']\n",
        "df.head(10)"
      ],
      "execution_count": null,
      "outputs": [
        {
          "data": {
            "text/html": [
              "<div>\n",
              "<style scoped>\n",
              "    .dataframe tbody tr th:only-of-type {\n",
              "        vertical-align: middle;\n",
              "    }\n",
              "\n",
              "    .dataframe tbody tr th {\n",
              "        vertical-align: top;\n",
              "    }\n",
              "\n",
              "    .dataframe thead th {\n",
              "        text-align: right;\n",
              "    }\n",
              "</style>\n",
              "<table border=\"1\" class=\"dataframe\">\n",
              "  <thead>\n",
              "    <tr style=\"text-align: right;\">\n",
              "      <th></th>\n",
              "      <th>mean radius</th>\n",
              "      <th>mean texture</th>\n",
              "      <th>mean perimeter</th>\n",
              "      <th>mean area</th>\n",
              "      <th>mean smoothness</th>\n",
              "      <th>mean compactness</th>\n",
              "      <th>mean concavity</th>\n",
              "      <th>mean concave points</th>\n",
              "      <th>mean symmetry</th>\n",
              "      <th>mean fractal dimension</th>\n",
              "      <th>...</th>\n",
              "      <th>worst texture</th>\n",
              "      <th>worst perimeter</th>\n",
              "      <th>worst area</th>\n",
              "      <th>worst smoothness</th>\n",
              "      <th>worst compactness</th>\n",
              "      <th>worst concavity</th>\n",
              "      <th>worst concave points</th>\n",
              "      <th>worst symmetry</th>\n",
              "      <th>worst fractal dimension</th>\n",
              "      <th>target</th>\n",
              "    </tr>\n",
              "  </thead>\n",
              "  <tbody>\n",
              "    <tr>\n",
              "      <th>0</th>\n",
              "      <td>17.99</td>\n",
              "      <td>10.38</td>\n",
              "      <td>122.80</td>\n",
              "      <td>1001.0</td>\n",
              "      <td>0.11840</td>\n",
              "      <td>0.27760</td>\n",
              "      <td>0.30010</td>\n",
              "      <td>0.14710</td>\n",
              "      <td>0.2419</td>\n",
              "      <td>0.07871</td>\n",
              "      <td>...</td>\n",
              "      <td>17.33</td>\n",
              "      <td>184.60</td>\n",
              "      <td>2019.0</td>\n",
              "      <td>0.1622</td>\n",
              "      <td>0.6656</td>\n",
              "      <td>0.7119</td>\n",
              "      <td>0.2654</td>\n",
              "      <td>0.4601</td>\n",
              "      <td>0.11890</td>\n",
              "      <td>0</td>\n",
              "    </tr>\n",
              "    <tr>\n",
              "      <th>1</th>\n",
              "      <td>20.57</td>\n",
              "      <td>17.77</td>\n",
              "      <td>132.90</td>\n",
              "      <td>1326.0</td>\n",
              "      <td>0.08474</td>\n",
              "      <td>0.07864</td>\n",
              "      <td>0.08690</td>\n",
              "      <td>0.07017</td>\n",
              "      <td>0.1812</td>\n",
              "      <td>0.05667</td>\n",
              "      <td>...</td>\n",
              "      <td>23.41</td>\n",
              "      <td>158.80</td>\n",
              "      <td>1956.0</td>\n",
              "      <td>0.1238</td>\n",
              "      <td>0.1866</td>\n",
              "      <td>0.2416</td>\n",
              "      <td>0.1860</td>\n",
              "      <td>0.2750</td>\n",
              "      <td>0.08902</td>\n",
              "      <td>0</td>\n",
              "    </tr>\n",
              "    <tr>\n",
              "      <th>2</th>\n",
              "      <td>19.69</td>\n",
              "      <td>21.25</td>\n",
              "      <td>130.00</td>\n",
              "      <td>1203.0</td>\n",
              "      <td>0.10960</td>\n",
              "      <td>0.15990</td>\n",
              "      <td>0.19740</td>\n",
              "      <td>0.12790</td>\n",
              "      <td>0.2069</td>\n",
              "      <td>0.05999</td>\n",
              "      <td>...</td>\n",
              "      <td>25.53</td>\n",
              "      <td>152.50</td>\n",
              "      <td>1709.0</td>\n",
              "      <td>0.1444</td>\n",
              "      <td>0.4245</td>\n",
              "      <td>0.4504</td>\n",
              "      <td>0.2430</td>\n",
              "      <td>0.3613</td>\n",
              "      <td>0.08758</td>\n",
              "      <td>0</td>\n",
              "    </tr>\n",
              "    <tr>\n",
              "      <th>3</th>\n",
              "      <td>11.42</td>\n",
              "      <td>20.38</td>\n",
              "      <td>77.58</td>\n",
              "      <td>386.1</td>\n",
              "      <td>0.14250</td>\n",
              "      <td>0.28390</td>\n",
              "      <td>0.24140</td>\n",
              "      <td>0.10520</td>\n",
              "      <td>0.2597</td>\n",
              "      <td>0.09744</td>\n",
              "      <td>...</td>\n",
              "      <td>26.50</td>\n",
              "      <td>98.87</td>\n",
              "      <td>567.7</td>\n",
              "      <td>0.2098</td>\n",
              "      <td>0.8663</td>\n",
              "      <td>0.6869</td>\n",
              "      <td>0.2575</td>\n",
              "      <td>0.6638</td>\n",
              "      <td>0.17300</td>\n",
              "      <td>0</td>\n",
              "    </tr>\n",
              "    <tr>\n",
              "      <th>4</th>\n",
              "      <td>20.29</td>\n",
              "      <td>14.34</td>\n",
              "      <td>135.10</td>\n",
              "      <td>1297.0</td>\n",
              "      <td>0.10030</td>\n",
              "      <td>0.13280</td>\n",
              "      <td>0.19800</td>\n",
              "      <td>0.10430</td>\n",
              "      <td>0.1809</td>\n",
              "      <td>0.05883</td>\n",
              "      <td>...</td>\n",
              "      <td>16.67</td>\n",
              "      <td>152.20</td>\n",
              "      <td>1575.0</td>\n",
              "      <td>0.1374</td>\n",
              "      <td>0.2050</td>\n",
              "      <td>0.4000</td>\n",
              "      <td>0.1625</td>\n",
              "      <td>0.2364</td>\n",
              "      <td>0.07678</td>\n",
              "      <td>0</td>\n",
              "    </tr>\n",
              "    <tr>\n",
              "      <th>5</th>\n",
              "      <td>12.45</td>\n",
              "      <td>15.70</td>\n",
              "      <td>82.57</td>\n",
              "      <td>477.1</td>\n",
              "      <td>0.12780</td>\n",
              "      <td>0.17000</td>\n",
              "      <td>0.15780</td>\n",
              "      <td>0.08089</td>\n",
              "      <td>0.2087</td>\n",
              "      <td>0.07613</td>\n",
              "      <td>...</td>\n",
              "      <td>23.75</td>\n",
              "      <td>103.40</td>\n",
              "      <td>741.6</td>\n",
              "      <td>0.1791</td>\n",
              "      <td>0.5249</td>\n",
              "      <td>0.5355</td>\n",
              "      <td>0.1741</td>\n",
              "      <td>0.3985</td>\n",
              "      <td>0.12440</td>\n",
              "      <td>0</td>\n",
              "    </tr>\n",
              "    <tr>\n",
              "      <th>6</th>\n",
              "      <td>18.25</td>\n",
              "      <td>19.98</td>\n",
              "      <td>119.60</td>\n",
              "      <td>1040.0</td>\n",
              "      <td>0.09463</td>\n",
              "      <td>0.10900</td>\n",
              "      <td>0.11270</td>\n",
              "      <td>0.07400</td>\n",
              "      <td>0.1794</td>\n",
              "      <td>0.05742</td>\n",
              "      <td>...</td>\n",
              "      <td>27.66</td>\n",
              "      <td>153.20</td>\n",
              "      <td>1606.0</td>\n",
              "      <td>0.1442</td>\n",
              "      <td>0.2576</td>\n",
              "      <td>0.3784</td>\n",
              "      <td>0.1932</td>\n",
              "      <td>0.3063</td>\n",
              "      <td>0.08368</td>\n",
              "      <td>0</td>\n",
              "    </tr>\n",
              "    <tr>\n",
              "      <th>7</th>\n",
              "      <td>13.71</td>\n",
              "      <td>20.83</td>\n",
              "      <td>90.20</td>\n",
              "      <td>577.9</td>\n",
              "      <td>0.11890</td>\n",
              "      <td>0.16450</td>\n",
              "      <td>0.09366</td>\n",
              "      <td>0.05985</td>\n",
              "      <td>0.2196</td>\n",
              "      <td>0.07451</td>\n",
              "      <td>...</td>\n",
              "      <td>28.14</td>\n",
              "      <td>110.60</td>\n",
              "      <td>897.0</td>\n",
              "      <td>0.1654</td>\n",
              "      <td>0.3682</td>\n",
              "      <td>0.2678</td>\n",
              "      <td>0.1556</td>\n",
              "      <td>0.3196</td>\n",
              "      <td>0.11510</td>\n",
              "      <td>0</td>\n",
              "    </tr>\n",
              "    <tr>\n",
              "      <th>8</th>\n",
              "      <td>13.00</td>\n",
              "      <td>21.82</td>\n",
              "      <td>87.50</td>\n",
              "      <td>519.8</td>\n",
              "      <td>0.12730</td>\n",
              "      <td>0.19320</td>\n",
              "      <td>0.18590</td>\n",
              "      <td>0.09353</td>\n",
              "      <td>0.2350</td>\n",
              "      <td>0.07389</td>\n",
              "      <td>...</td>\n",
              "      <td>30.73</td>\n",
              "      <td>106.20</td>\n",
              "      <td>739.3</td>\n",
              "      <td>0.1703</td>\n",
              "      <td>0.5401</td>\n",
              "      <td>0.5390</td>\n",
              "      <td>0.2060</td>\n",
              "      <td>0.4378</td>\n",
              "      <td>0.10720</td>\n",
              "      <td>0</td>\n",
              "    </tr>\n",
              "    <tr>\n",
              "      <th>9</th>\n",
              "      <td>12.46</td>\n",
              "      <td>24.04</td>\n",
              "      <td>83.97</td>\n",
              "      <td>475.9</td>\n",
              "      <td>0.11860</td>\n",
              "      <td>0.23960</td>\n",
              "      <td>0.22730</td>\n",
              "      <td>0.08543</td>\n",
              "      <td>0.2030</td>\n",
              "      <td>0.08243</td>\n",
              "      <td>...</td>\n",
              "      <td>40.68</td>\n",
              "      <td>97.65</td>\n",
              "      <td>711.4</td>\n",
              "      <td>0.1853</td>\n",
              "      <td>1.0580</td>\n",
              "      <td>1.1050</td>\n",
              "      <td>0.2210</td>\n",
              "      <td>0.4366</td>\n",
              "      <td>0.20750</td>\n",
              "      <td>0</td>\n",
              "    </tr>\n",
              "  </tbody>\n",
              "</table>\n",
              "<p>10 rows × 31 columns</p>\n",
              "</div>"
            ],
            "text/plain": [
              "   mean radius  mean texture  mean perimeter  mean area  mean smoothness  \\\n",
              "0        17.99         10.38          122.80     1001.0          0.11840   \n",
              "1        20.57         17.77          132.90     1326.0          0.08474   \n",
              "2        19.69         21.25          130.00     1203.0          0.10960   \n",
              "3        11.42         20.38           77.58      386.1          0.14250   \n",
              "4        20.29         14.34          135.10     1297.0          0.10030   \n",
              "5        12.45         15.70           82.57      477.1          0.12780   \n",
              "6        18.25         19.98          119.60     1040.0          0.09463   \n",
              "7        13.71         20.83           90.20      577.9          0.11890   \n",
              "8        13.00         21.82           87.50      519.8          0.12730   \n",
              "9        12.46         24.04           83.97      475.9          0.11860   \n",
              "\n",
              "   mean compactness  mean concavity  mean concave points  mean symmetry  \\\n",
              "0           0.27760         0.30010              0.14710         0.2419   \n",
              "1           0.07864         0.08690              0.07017         0.1812   \n",
              "2           0.15990         0.19740              0.12790         0.2069   \n",
              "3           0.28390         0.24140              0.10520         0.2597   \n",
              "4           0.13280         0.19800              0.10430         0.1809   \n",
              "5           0.17000         0.15780              0.08089         0.2087   \n",
              "6           0.10900         0.11270              0.07400         0.1794   \n",
              "7           0.16450         0.09366              0.05985         0.2196   \n",
              "8           0.19320         0.18590              0.09353         0.2350   \n",
              "9           0.23960         0.22730              0.08543         0.2030   \n",
              "\n",
              "   mean fractal dimension  ...  worst texture  worst perimeter  worst area  \\\n",
              "0                 0.07871  ...          17.33           184.60      2019.0   \n",
              "1                 0.05667  ...          23.41           158.80      1956.0   \n",
              "2                 0.05999  ...          25.53           152.50      1709.0   \n",
              "3                 0.09744  ...          26.50            98.87       567.7   \n",
              "4                 0.05883  ...          16.67           152.20      1575.0   \n",
              "5                 0.07613  ...          23.75           103.40       741.6   \n",
              "6                 0.05742  ...          27.66           153.20      1606.0   \n",
              "7                 0.07451  ...          28.14           110.60       897.0   \n",
              "8                 0.07389  ...          30.73           106.20       739.3   \n",
              "9                 0.08243  ...          40.68            97.65       711.4   \n",
              "\n",
              "   worst smoothness  worst compactness  worst concavity  worst concave points  \\\n",
              "0            0.1622             0.6656           0.7119                0.2654   \n",
              "1            0.1238             0.1866           0.2416                0.1860   \n",
              "2            0.1444             0.4245           0.4504                0.2430   \n",
              "3            0.2098             0.8663           0.6869                0.2575   \n",
              "4            0.1374             0.2050           0.4000                0.1625   \n",
              "5            0.1791             0.5249           0.5355                0.1741   \n",
              "6            0.1442             0.2576           0.3784                0.1932   \n",
              "7            0.1654             0.3682           0.2678                0.1556   \n",
              "8            0.1703             0.5401           0.5390                0.2060   \n",
              "9            0.1853             1.0580           1.1050                0.2210   \n",
              "\n",
              "   worst symmetry  worst fractal dimension  target  \n",
              "0          0.4601                  0.11890       0  \n",
              "1          0.2750                  0.08902       0  \n",
              "2          0.3613                  0.08758       0  \n",
              "3          0.6638                  0.17300       0  \n",
              "4          0.2364                  0.07678       0  \n",
              "5          0.3985                  0.12440       0  \n",
              "6          0.3063                  0.08368       0  \n",
              "7          0.3196                  0.11510       0  \n",
              "8          0.4378                  0.10720       0  \n",
              "9          0.4366                  0.20750       0  \n",
              "\n",
              "[10 rows x 31 columns]"
            ]
          },
          "execution_count": 5,
          "metadata": {},
          "output_type": "execute_result"
        }
      ]
    },
    {
      "cell_type": "code",
      "metadata": {
        "colab": {
          "base_uri": "https://localhost:8080/"
        },
        "id": "D1cubvJBeBMc",
        "outputId": "87f59df2-1d28-40de-d461-ed2c7295f6de"
      },
      "source": [
        "df.info()"
      ],
      "execution_count": null,
      "outputs": [
        {
          "name": "stdout",
          "output_type": "stream",
          "text": [
            "<class 'pandas.core.frame.DataFrame'>\n",
            "RangeIndex: 569 entries, 0 to 568\n",
            "Data columns (total 31 columns):\n",
            " #   Column                   Non-Null Count  Dtype  \n",
            "---  ------                   --------------  -----  \n",
            " 0   mean radius              569 non-null    float64\n",
            " 1   mean texture             569 non-null    float64\n",
            " 2   mean perimeter           569 non-null    float64\n",
            " 3   mean area                569 non-null    float64\n",
            " 4   mean smoothness          569 non-null    float64\n",
            " 5   mean compactness         569 non-null    float64\n",
            " 6   mean concavity           569 non-null    float64\n",
            " 7   mean concave points      569 non-null    float64\n",
            " 8   mean symmetry            569 non-null    float64\n",
            " 9   mean fractal dimension   569 non-null    float64\n",
            " 10  radius error             569 non-null    float64\n",
            " 11  texture error            569 non-null    float64\n",
            " 12  perimeter error          569 non-null    float64\n",
            " 13  area error               569 non-null    float64\n",
            " 14  smoothness error         569 non-null    float64\n",
            " 15  compactness error        569 non-null    float64\n",
            " 16  concavity error          569 non-null    float64\n",
            " 17  concave points error     569 non-null    float64\n",
            " 18  symmetry error           569 non-null    float64\n",
            " 19  fractal dimension error  569 non-null    float64\n",
            " 20  worst radius             569 non-null    float64\n",
            " 21  worst texture            569 non-null    float64\n",
            " 22  worst perimeter          569 non-null    float64\n",
            " 23  worst area               569 non-null    float64\n",
            " 24  worst smoothness         569 non-null    float64\n",
            " 25  worst compactness        569 non-null    float64\n",
            " 26  worst concavity          569 non-null    float64\n",
            " 27  worst concave points     569 non-null    float64\n",
            " 28  worst symmetry           569 non-null    float64\n",
            " 29  worst fractal dimension  569 non-null    float64\n",
            " 30  target                   569 non-null    int32  \n",
            "dtypes: float64(30), int32(1)\n",
            "memory usage: 135.7 KB\n"
          ]
        }
      ]
    },
    {
      "cell_type": "code",
      "metadata": {
        "colab": {
          "base_uri": "https://localhost:8080/"
        },
        "id": "Jat-QWT9eBhk",
        "outputId": "2a4d9f1f-a662-401a-d160-124f897a8fcb"
      },
      "source": [
        "df_m=(df['target']==0)\n",
        "df_m.sum()"
      ],
      "execution_count": null,
      "outputs": [
        {
          "data": {
            "text/plain": [
              "212"
            ]
          },
          "execution_count": 7,
          "metadata": {},
          "output_type": "execute_result"
        }
      ]
    },
    {
      "cell_type": "code",
      "metadata": {
        "colab": {
          "base_uri": "https://localhost:8080/"
        },
        "id": "ZB-IuMb8jU_s",
        "outputId": "2ca5089d-3090-43f1-e734-3ea31843206c"
      },
      "source": [
        "df_b=(df['target']==1)\n",
        "df_b.sum()"
      ],
      "execution_count": null,
      "outputs": [
        {
          "data": {
            "text/plain": [
              "357"
            ]
          },
          "execution_count": 8,
          "metadata": {},
          "output_type": "execute_result"
        }
      ]
    },
    {
      "cell_type": "code",
      "metadata": {
        "colab": {
          "base_uri": "https://localhost:8080/"
        },
        "id": "GpfXS41YjWbz",
        "outputId": "d540263a-547b-4597-d070-26bfac0f4f3a"
      },
      "source": [
        "df_temp=(df['mean area']>700)\n",
        "df_temp.sum()"
      ],
      "execution_count": null,
      "outputs": [
        {
          "data": {
            "text/plain": [
              "171"
            ]
          },
          "execution_count": 9,
          "metadata": {},
          "output_type": "execute_result"
        }
      ]
    },
    {
      "cell_type": "markdown",
      "metadata": {
        "id": "YyqBEQXGq-B0"
      },
      "source": [
        "### Splitting the data\n",
        "It is best practice to have a training set (from which there is a rotating validation subset) and a test set. Our aim here is to (eventually) obtain the best accuracy we can on the test set (we'll do all our tuning on the training/validation sets, however.) \n",
        "\n",
        "**Split the dataset** into a train and a test set **\"70:30\"**, use **``random_state=0``**. The test set is set aside (untouched) for final evaluation, once hyperparameter optimization is complete. **[0.5]**"
      ]
    },
    {
      "cell_type": "code",
      "metadata": {
        "colab": {
          "base_uri": "https://localhost:8080/",
          "height": 258
        },
        "id": "A5equ6ied8eg",
        "outputId": "307babd7-c28d-44ef-932f-9f46dcbb50cf"
      },
      "source": [
        "df_data=df.drop(columns=['target'])#create a new dataframe which contains all the X variables\n",
        "df_target=df['target']#create a new dataframe which contains all the target values\n",
        "df_data.head()"
      ],
      "execution_count": null,
      "outputs": [
        {
          "data": {
            "text/html": [
              "<div>\n",
              "<style scoped>\n",
              "    .dataframe tbody tr th:only-of-type {\n",
              "        vertical-align: middle;\n",
              "    }\n",
              "\n",
              "    .dataframe tbody tr th {\n",
              "        vertical-align: top;\n",
              "    }\n",
              "\n",
              "    .dataframe thead th {\n",
              "        text-align: right;\n",
              "    }\n",
              "</style>\n",
              "<table border=\"1\" class=\"dataframe\">\n",
              "  <thead>\n",
              "    <tr style=\"text-align: right;\">\n",
              "      <th></th>\n",
              "      <th>mean radius</th>\n",
              "      <th>mean texture</th>\n",
              "      <th>mean perimeter</th>\n",
              "      <th>mean area</th>\n",
              "      <th>mean smoothness</th>\n",
              "      <th>mean compactness</th>\n",
              "      <th>mean concavity</th>\n",
              "      <th>mean concave points</th>\n",
              "      <th>mean symmetry</th>\n",
              "      <th>mean fractal dimension</th>\n",
              "      <th>...</th>\n",
              "      <th>worst radius</th>\n",
              "      <th>worst texture</th>\n",
              "      <th>worst perimeter</th>\n",
              "      <th>worst area</th>\n",
              "      <th>worst smoothness</th>\n",
              "      <th>worst compactness</th>\n",
              "      <th>worst concavity</th>\n",
              "      <th>worst concave points</th>\n",
              "      <th>worst symmetry</th>\n",
              "      <th>worst fractal dimension</th>\n",
              "    </tr>\n",
              "  </thead>\n",
              "  <tbody>\n",
              "    <tr>\n",
              "      <th>0</th>\n",
              "      <td>17.99</td>\n",
              "      <td>10.38</td>\n",
              "      <td>122.80</td>\n",
              "      <td>1001.0</td>\n",
              "      <td>0.11840</td>\n",
              "      <td>0.27760</td>\n",
              "      <td>0.3001</td>\n",
              "      <td>0.14710</td>\n",
              "      <td>0.2419</td>\n",
              "      <td>0.07871</td>\n",
              "      <td>...</td>\n",
              "      <td>25.38</td>\n",
              "      <td>17.33</td>\n",
              "      <td>184.60</td>\n",
              "      <td>2019.0</td>\n",
              "      <td>0.1622</td>\n",
              "      <td>0.6656</td>\n",
              "      <td>0.7119</td>\n",
              "      <td>0.2654</td>\n",
              "      <td>0.4601</td>\n",
              "      <td>0.11890</td>\n",
              "    </tr>\n",
              "    <tr>\n",
              "      <th>1</th>\n",
              "      <td>20.57</td>\n",
              "      <td>17.77</td>\n",
              "      <td>132.90</td>\n",
              "      <td>1326.0</td>\n",
              "      <td>0.08474</td>\n",
              "      <td>0.07864</td>\n",
              "      <td>0.0869</td>\n",
              "      <td>0.07017</td>\n",
              "      <td>0.1812</td>\n",
              "      <td>0.05667</td>\n",
              "      <td>...</td>\n",
              "      <td>24.99</td>\n",
              "      <td>23.41</td>\n",
              "      <td>158.80</td>\n",
              "      <td>1956.0</td>\n",
              "      <td>0.1238</td>\n",
              "      <td>0.1866</td>\n",
              "      <td>0.2416</td>\n",
              "      <td>0.1860</td>\n",
              "      <td>0.2750</td>\n",
              "      <td>0.08902</td>\n",
              "    </tr>\n",
              "    <tr>\n",
              "      <th>2</th>\n",
              "      <td>19.69</td>\n",
              "      <td>21.25</td>\n",
              "      <td>130.00</td>\n",
              "      <td>1203.0</td>\n",
              "      <td>0.10960</td>\n",
              "      <td>0.15990</td>\n",
              "      <td>0.1974</td>\n",
              "      <td>0.12790</td>\n",
              "      <td>0.2069</td>\n",
              "      <td>0.05999</td>\n",
              "      <td>...</td>\n",
              "      <td>23.57</td>\n",
              "      <td>25.53</td>\n",
              "      <td>152.50</td>\n",
              "      <td>1709.0</td>\n",
              "      <td>0.1444</td>\n",
              "      <td>0.4245</td>\n",
              "      <td>0.4504</td>\n",
              "      <td>0.2430</td>\n",
              "      <td>0.3613</td>\n",
              "      <td>0.08758</td>\n",
              "    </tr>\n",
              "    <tr>\n",
              "      <th>3</th>\n",
              "      <td>11.42</td>\n",
              "      <td>20.38</td>\n",
              "      <td>77.58</td>\n",
              "      <td>386.1</td>\n",
              "      <td>0.14250</td>\n",
              "      <td>0.28390</td>\n",
              "      <td>0.2414</td>\n",
              "      <td>0.10520</td>\n",
              "      <td>0.2597</td>\n",
              "      <td>0.09744</td>\n",
              "      <td>...</td>\n",
              "      <td>14.91</td>\n",
              "      <td>26.50</td>\n",
              "      <td>98.87</td>\n",
              "      <td>567.7</td>\n",
              "      <td>0.2098</td>\n",
              "      <td>0.8663</td>\n",
              "      <td>0.6869</td>\n",
              "      <td>0.2575</td>\n",
              "      <td>0.6638</td>\n",
              "      <td>0.17300</td>\n",
              "    </tr>\n",
              "    <tr>\n",
              "      <th>4</th>\n",
              "      <td>20.29</td>\n",
              "      <td>14.34</td>\n",
              "      <td>135.10</td>\n",
              "      <td>1297.0</td>\n",
              "      <td>0.10030</td>\n",
              "      <td>0.13280</td>\n",
              "      <td>0.1980</td>\n",
              "      <td>0.10430</td>\n",
              "      <td>0.1809</td>\n",
              "      <td>0.05883</td>\n",
              "      <td>...</td>\n",
              "      <td>22.54</td>\n",
              "      <td>16.67</td>\n",
              "      <td>152.20</td>\n",
              "      <td>1575.0</td>\n",
              "      <td>0.1374</td>\n",
              "      <td>0.2050</td>\n",
              "      <td>0.4000</td>\n",
              "      <td>0.1625</td>\n",
              "      <td>0.2364</td>\n",
              "      <td>0.07678</td>\n",
              "    </tr>\n",
              "  </tbody>\n",
              "</table>\n",
              "<p>5 rows × 30 columns</p>\n",
              "</div>"
            ],
            "text/plain": [
              "   mean radius  mean texture  mean perimeter  mean area  mean smoothness  \\\n",
              "0        17.99         10.38          122.80     1001.0          0.11840   \n",
              "1        20.57         17.77          132.90     1326.0          0.08474   \n",
              "2        19.69         21.25          130.00     1203.0          0.10960   \n",
              "3        11.42         20.38           77.58      386.1          0.14250   \n",
              "4        20.29         14.34          135.10     1297.0          0.10030   \n",
              "\n",
              "   mean compactness  mean concavity  mean concave points  mean symmetry  \\\n",
              "0           0.27760          0.3001              0.14710         0.2419   \n",
              "1           0.07864          0.0869              0.07017         0.1812   \n",
              "2           0.15990          0.1974              0.12790         0.2069   \n",
              "3           0.28390          0.2414              0.10520         0.2597   \n",
              "4           0.13280          0.1980              0.10430         0.1809   \n",
              "\n",
              "   mean fractal dimension  ...  worst radius  worst texture  worst perimeter  \\\n",
              "0                 0.07871  ...         25.38          17.33           184.60   \n",
              "1                 0.05667  ...         24.99          23.41           158.80   \n",
              "2                 0.05999  ...         23.57          25.53           152.50   \n",
              "3                 0.09744  ...         14.91          26.50            98.87   \n",
              "4                 0.05883  ...         22.54          16.67           152.20   \n",
              "\n",
              "   worst area  worst smoothness  worst compactness  worst concavity  \\\n",
              "0      2019.0            0.1622             0.6656           0.7119   \n",
              "1      1956.0            0.1238             0.1866           0.2416   \n",
              "2      1709.0            0.1444             0.4245           0.4504   \n",
              "3       567.7            0.2098             0.8663           0.6869   \n",
              "4      1575.0            0.1374             0.2050           0.4000   \n",
              "\n",
              "   worst concave points  worst symmetry  worst fractal dimension  \n",
              "0                0.2654          0.4601                  0.11890  \n",
              "1                0.1860          0.2750                  0.08902  \n",
              "2                0.2430          0.3613                  0.08758  \n",
              "3                0.2575          0.6638                  0.17300  \n",
              "4                0.1625          0.2364                  0.07678  \n",
              "\n",
              "[5 rows x 30 columns]"
            ]
          },
          "execution_count": 10,
          "metadata": {},
          "output_type": "execute_result"
        }
      ]
    },
    {
      "cell_type": "code",
      "metadata": {
        "colab": {
          "base_uri": "https://localhost:8080/"
        },
        "id": "C0a9iRojuM9P",
        "outputId": "fd2cf8a7-83f7-4c1b-f28e-5eeb8dc9e43f"
      },
      "source": [
        "from sklearn.model_selection import train_test_split\n",
        "#Note that data_processed[:,30] is the target values\n",
        "train_X,test_X,train_y,test_y = train_test_split(df_data,df_target,random_state=0,test_size=0.3)\n",
        "print(train_X.shape, train_y.shape)\n",
        "print(test_X.shape, test_y.shape)"
      ],
      "execution_count": null,
      "outputs": [
        {
          "name": "stdout",
          "output_type": "stream",
          "text": [
            "(398, 30) (398,)\n",
            "(171, 30) (171,)\n"
          ]
        }
      ]
    },
    {
      "cell_type": "markdown",
      "metadata": {
        "id": "U_jNtkfce9Eg"
      },
      "source": [
        "### Effect of Standardization (Visual)\n",
        "Use `seaborn.lmplot` ([help here](https://seaborn.pydata.org/generated/seaborn.lmplot.html)) to visualize a few features of the training set. Draw a plot where the x-axis is ``worst smoothness``, the y-axis is ``worst fractal dimension,`` and the color of each datapoint indicates its class.  **[0.5]**\n",
        "\n",
        "Standardizing the data is often critical in machine learning. Show a plot as above, but with two features with very different scales. Standardize the data and plot those features again. What's different? Based on your observation, what is the advantage of standardization? **[0.6]**\n",
        "\n",
        "\n"
      ]
    },
    {
      "cell_type": "code",
      "metadata": {
        "colab": {
          "base_uri": "https://localhost:8080/",
          "height": 738
        },
        "id": "th0V7b3-h9gz",
        "outputId": "3f155611-cdc3-4dbc-9675-8c741ea7d1f1"
      },
      "source": [
        "import seaborn as sns\n",
        "import matplotlib.pyplot as plt\n",
        "#visualize a few features of the trianing set using lmplot\n",
        "sns.lmplot(x=\"mean radius\", y=\"radius error\", data=train_X)\n",
        "sns.lmplot(x=\"mean area\", y=\"area error\", data=train_X)"
      ],
      "execution_count": null,
      "outputs": [
        {
          "data": {
            "text/plain": [
              "<seaborn.axisgrid.FacetGrid at 0x293eea40b08>"
            ]
          },
          "execution_count": 12,
          "metadata": {},
          "output_type": "execute_result"
        },
        {
          "data": {
            "image/png": "[encoded data removed]",
            "text/plain": [
              "<Figure size 360x360 with 1 Axes>"
            ]
          },
          "metadata": {
            "needs_background": "light"
          },
          "output_type": "display_data"
        },
        {
          "data": {
            "image/png": "[encoded data removed]",
            "text/plain": [
              "<Figure size 360x360 with 1 Axes>"
            ]
          },
          "metadata": {
            "needs_background": "light"
          },
          "output_type": "display_data"
        }
      ]
    },
    {
      "cell_type": "code",
      "metadata": {
        "colab": {
          "base_uri": "https://localhost:8080/",
          "height": 387
        },
        "id": "J684emSV8mJd",
        "outputId": "86ab883b-1921-4da4-9a59-8975cb3af96a"
      },
      "source": [
        "#Draw a plot where the x-axis is worst smoothness, the y-axis is worst fractal dimension, and the color of each datapoint indicates its class\n",
        "#use concat function to join train_X and train_y together into one dataframe first\n",
        "training_data=pd.concat([train_X,train_y],axis=1)\n",
        "training_data.head()\n",
        "#plot the data before standardizing\n",
        "sns.lmplot(x=\"worst smoothness\", y=\"worst fractal dimension\",hue=\"target\", data=training_data)"
      ],
      "execution_count": null,
      "outputs": [
        {
          "data": {
            "text/plain": [
              "<seaborn.axisgrid.FacetGrid at 0x293f11bacc8>"
            ]
          },
          "execution_count": 13,
          "metadata": {},
          "output_type": "execute_result"
        },
        {
          "data": {
            "image/png": "[encoded data removed]",
            "text/plain": [
              "<Figure size 402.375x360 with 1 Axes>"
            ]
          },
          "metadata": {
            "needs_background": "light"
          },
          "output_type": "display_data"
        }
      ]
    },
    {
      "cell_type": "code",
      "metadata": {
        "colab": {
          "base_uri": "https://localhost:8080/",
          "height": 387
        },
        "id": "Hhmm_4UelYaG",
        "outputId": "ebe845f6-80a9-463d-df59-e95ce7ada2ac"
      },
      "source": [
        "#Show a plot as above, but with two features with very different scales. \n",
        "#I choose x=\"mean area\", y=\"area error\" to plot\n",
        "sns.lmplot(x=\"mean area\", y=\"area error\",hue=\"target\", data=training_data)"
      ],
      "execution_count": null,
      "outputs": [
        {
          "data": {
            "text/plain": [
              "<seaborn.axisgrid.FacetGrid at 0x293f1261cc8>"
            ]
          },
          "execution_count": 14,
          "metadata": {},
          "output_type": "execute_result"
        },
        {
          "data": {
            "image/png": "[encoded data removed]",
            "text/plain": [
              "<Figure size 402.375x360 with 1 Axes>"
            ]
          },
          "metadata": {
            "needs_background": "light"
          },
          "output_type": "display_data"
        }
      ]
    },
    {
      "cell_type": "code",
      "metadata": {
        "colab": {
          "base_uri": "https://localhost:8080/",
          "height": 387
        },
        "id": "8gsoillFVO1t",
        "outputId": "0e21058a-5e8b-4c96-f1de-7ee70a192cc6"
      },
      "source": [
        "#standardize the data first\n",
        "from sklearn.preprocessing import StandardScaler\n",
        "scaler = StandardScaler()\n",
        "train_X_temp = scaler.fit_transform(train_X)#Fit a scaler to the training data \n",
        "train_X_s=pd.DataFrame(data=train_X_temp,columns=train_X.columns)#convert the numpy array into dataframe,and add the column names\n",
        "train_X_s.head()\n",
        "train_y_s=train_y.reset_index(drop=True)#reset the index in order to concate with standardized trian_X\n",
        "training_data_s=pd.concat([train_X_s,train_y_s],axis=1)\n",
        "#plot the data after standardizing\n",
        "sns.lmplot(x=\"mean area\", y=\"area error\",hue=\"target\", data=training_data_s)"
      ],
      "execution_count": null,
      "outputs": [
        {
          "data": {
            "text/plain": [
              "<seaborn.axisgrid.FacetGrid at 0x293f131ec48>"
            ]
          },
          "execution_count": 15,
          "metadata": {},
          "output_type": "execute_result"
        },
        {
          "data": {
            "image/png": "[encoded data removed]",
            "text/plain": [
              "<Figure size 402.375x360 with 1 Axes>"
            ]
          },
          "metadata": {
            "needs_background": "light"
          },
          "output_type": "display_data"
        }
      ]
    },
    {
      "cell_type": "markdown",
      "metadata": {
        "id": "xIe6hRPRmVbP"
      },
      "source": [
        "**Question**: What's different? Based on your observation, what is the advantage of standardization? \n",
        "\n",
        "**Answer**:The plot seems to have no difference excepting that the sclaes of both y-axis and x-axis have changed. Since some machine learning algorithms, such as KNN, are sensitive to scaling of features, \"we do not want our algorithm to be biased towards one feature if we have very different scaling features in the data.\" Scaling the data first and then implementing the algorithm will ensure the accuracy of our model for predictions.\n",
        "\n",
        "Reference:https://www.analyticsvidhya.com/blog/2020/04/feature-scaling-machine-learning-normalization-standardization/"
      ]
    },
    {
      "cell_type": "markdown",
      "metadata": {
        "id": "aBmo0-W1yZFs"
      },
      "source": [
        "## Part 2: KNN Classifier without Standardization [2 Marks]\n",
        "Normally, standardizing data is a key step in preparing data for a KNN classifier. However, for educational purposes, let's first try to build a model without standardization. Let's create a KNN classifier to predict whether a patient has a malignant or benign tumor. \n",
        "\n",
        "Follow these steps: \n",
        "\n",
        "1.   Train a KNN Classifier using cross-validation on the dataset. Sweep `k` (number of neighbours) from 1 to 100, and show a plot of the mean cross-validation accuracy vs `k`. **[1]**\n",
        "2.   What is the best `k`? What is the highest cross-validation accuracy? **[0.5]**\n",
        "3. Comment on  which ranges of `k` lead to underfitted or overfitted models (hint: compare training and validation curves!). **[0.5]**\n",
        "\n",
        "\n"
      ]
    },
    {
      "cell_type": "code",
      "metadata": {
        "id": "cyEV-mVSAMaV"
      },
      "source": [
        "#Question 1: Train a KNN Classifier using cross-validation on the dataset.\n",
        "import numpy as np\n",
        "from sklearn import neighbors\n",
        "from sklearn.neighbors import KNeighborsClassifier\n",
        "from sklearn.model_selection import cross_validate\n",
        "scores_test=[]\n",
        "scores_train=[]\n",
        "for k in range(1,101):\n",
        "  knn = neighbors.KNeighborsClassifier(n_neighbors=k)\n",
        "  score = cross_validate(knn, train_X, train_y, cv=5, return_train_score=True)\n",
        "  scores_test.append(score['test_score'].mean())\n",
        "  scores_train.append(score['train_score'].mean())"
      ],
      "execution_count": null,
      "outputs": []
    },
    {
      "cell_type": "code",
      "metadata": {
        "colab": {
          "base_uri": "https://localhost:8080/",
          "height": 204
        },
        "id": "facyp04xuxkM",
        "outputId": "052d9aea-d99a-4d7b-8155-7d800f96842b"
      },
      "source": [
        "#put all the results into one dataframe called score_df\n",
        "score_df=pd.DataFrame(data=scores_test,columns=['validationScore'])\n",
        "score_df['trainScore']=pd.DataFrame(data=scores_train)\n",
        "score_df['k']=np.arange(1,101).reshape((-1,1))#add a new column which contains k values from 1 to 100\n",
        "score_df.head()"
      ],
      "execution_count": null,
      "outputs": [
        {
          "data": {
            "text/html": [
              "<div>\n",
              "<style scoped>\n",
              "    .dataframe tbody tr th:only-of-type {\n",
              "        vertical-align: middle;\n",
              "    }\n",
              "\n",
              "    .dataframe tbody tr th {\n",
              "        vertical-align: top;\n",
              "    }\n",
              "\n",
              "    .dataframe thead th {\n",
              "        text-align: right;\n",
              "    }\n",
              "</style>\n",
              "<table border=\"1\" class=\"dataframe\">\n",
              "  <thead>\n",
              "    <tr style=\"text-align: right;\">\n",
              "      <th></th>\n",
              "      <th>validationScore</th>\n",
              "      <th>trainScore</th>\n",
              "      <th>k</th>\n",
              "    </tr>\n",
              "  </thead>\n",
              "  <tbody>\n",
              "    <tr>\n",
              "      <th>0</th>\n",
              "      <td>0.917120</td>\n",
              "      <td>1.000000</td>\n",
              "      <td>1</td>\n",
              "    </tr>\n",
              "    <tr>\n",
              "      <th>1</th>\n",
              "      <td>0.917089</td>\n",
              "      <td>0.962940</td>\n",
              "      <td>2</td>\n",
              "    </tr>\n",
              "    <tr>\n",
              "      <th>2</th>\n",
              "      <td>0.927215</td>\n",
              "      <td>0.950380</td>\n",
              "      <td>3</td>\n",
              "    </tr>\n",
              "    <tr>\n",
              "      <th>3</th>\n",
              "      <td>0.927120</td>\n",
              "      <td>0.943467</td>\n",
              "      <td>4</td>\n",
              "    </tr>\n",
              "    <tr>\n",
              "      <th>4</th>\n",
              "      <td>0.919620</td>\n",
              "      <td>0.937186</td>\n",
              "      <td>5</td>\n",
              "    </tr>\n",
              "  </tbody>\n",
              "</table>\n",
              "</div>"
            ],
            "text/plain": [
              "   validationScore  trainScore  k\n",
              "0         0.917120    1.000000  1\n",
              "1         0.917089    0.962940  2\n",
              "2         0.927215    0.950380  3\n",
              "3         0.927120    0.943467  4\n",
              "4         0.919620    0.937186  5"
            ]
          },
          "execution_count": 17,
          "metadata": {},
          "output_type": "execute_result"
        }
      ]
    },
    {
      "cell_type": "code",
      "metadata": {
        "colab": {
          "base_uri": "https://localhost:8080/",
          "height": 279
        },
        "id": "IpGJzUvPWvlD",
        "outputId": "4667d45b-7b0e-4c53-c362-a707eab26080"
      },
      "source": [
        "#Question 1: show a plot of the mean cross-validation accuracy vs k\n",
        "plt.plot('k','validationScore',data=score_df)\n",
        "plt.plot('k','trainScore',data=score_df)\n",
        "plt.legend()\n",
        "plt.xlabel('k')\n",
        "plt.ylabel('scores')\n",
        "plt.show()"
      ],
      "execution_count": null,
      "outputs": [
        {
          "data": {
            "image/png": "[encoded data removed]",
            "text/plain": [
              "<Figure size 432x288 with 1 Axes>"
            ]
          },
          "metadata": {
            "needs_background": "light"
          },
          "output_type": "display_data"
        }
      ]
    },
    {
      "cell_type": "code",
      "metadata": {
        "colab": {
          "base_uri": "https://localhost:8080/",
          "height": 111
        },
        "id": "LQatrDU3y75Q",
        "outputId": "8a3327e1-b200-4763-9a1f-538c0758a301"
      },
      "source": [
        "#Question 2: What is the best k? What is the highest cross-validation accuracy? [0.5]\n",
        "score_df[score_df['validationScore']==max(score_df['validationScore'])]"
      ],
      "execution_count": null,
      "outputs": [
        {
          "data": {
            "text/html": [
              "<div>\n",
              "<style scoped>\n",
              "    .dataframe tbody tr th:only-of-type {\n",
              "        vertical-align: middle;\n",
              "    }\n",
              "\n",
              "    .dataframe tbody tr th {\n",
              "        vertical-align: top;\n",
              "    }\n",
              "\n",
              "    .dataframe thead th {\n",
              "        text-align: right;\n",
              "    }\n",
              "</style>\n",
              "<table border=\"1\" class=\"dataframe\">\n",
              "  <thead>\n",
              "    <tr style=\"text-align: right;\">\n",
              "      <th></th>\n",
              "      <th>validationScore</th>\n",
              "      <th>trainScore</th>\n",
              "      <th>k</th>\n",
              "    </tr>\n",
              "  </thead>\n",
              "  <tbody>\n",
              "    <tr>\n",
              "      <th>9</th>\n",
              "      <td>0.934652</td>\n",
              "      <td>0.934039</td>\n",
              "      <td>10</td>\n",
              "    </tr>\n",
              "    <tr>\n",
              "      <th>10</th>\n",
              "      <td>0.934652</td>\n",
              "      <td>0.930268</td>\n",
              "      <td>11</td>\n",
              "    </tr>\n",
              "  </tbody>\n",
              "</table>\n",
              "</div>"
            ],
            "text/plain": [
              "    validationScore  trainScore   k\n",
              "9          0.934652    0.934039  10\n",
              "10         0.934652    0.930268  11"
            ]
          },
          "execution_count": 19,
          "metadata": {},
          "output_type": "execute_result"
        }
      ]
    },
    {
      "cell_type": "markdown",
      "metadata": {
        "id": "YtmjoDXG3cm3"
      },
      "source": [
        "The best value of k is when the validation score is the highest, and the training score is relatively high. We don't want the trianing score to be the highest becuase in this case the validation score is pretty low. This would be a problem of overfitting. Some fitting error on the training set is acceptable, in order to have better generalization on the validation set. Also, we don't want the training score to be too low, then we would have underfitting problem.\n",
        "\n",
        "From the table above, we learn that **the highest corss-validation accuracy is 0.934652 when k=10 and k=11. However, to pick the best k, we need to compare the training score as well since we have 2 highest validation score. Thus, we pick the one has higher traning score 0.934039. In conclusion, the best k is 10.**"
      ]
    },
    {
      "cell_type": "markdown",
      "metadata": {
        "id": "olQQdaGOyi_i"
      },
      "source": [
        "**Question 3**: Comment on which ranges of k lead to underfitted or overfitted models (hint: compare training and validation curves!).\n",
        "\n",
        "When k is between 1 to 4, there exists overfitting problems. We don't want the trianing score to be very high becuase in this case the validation score is pretty low and the validation error is high. This would be a serious problem when we generalize the model to unseen data when making predictions. Some fitting error on the training set is acceptable, in order to have better generalization on the validation set. \n",
        "\n",
        "When k is between 70 to 100, there exists a underfitting problems. We don't want the training score to be too low, because it means that the model is not a good fit for the training data and it loses some features of the data. Consequently, the validation score will be too low and the high validation error shows that the accuracy of our pridictions is bad.\n"
      ]
    },
    {
      "cell_type": "markdown",
      "metadata": {
        "id": "VCyFm5S3srCO"
      },
      "source": [
        "## Part 3: Feature Selection [4 Marks]\n",
        "In this part, we aim to investigate the importance of each feature on the final classification accuracy. \n",
        "If we want to try every possible combination of features, we would have to test  $2^F$ different cases,  where F is the number of features, and in each case, we have to do a hyperparameter search (finding K, in KNN using cross-validation). That will take days!. \n",
        "\n",
        "To find more important features we will use a decision tree. based on a decision tree we can compute feature importance that is a metric for our feature selection (code is provided below).\n",
        "\n",
        "You can use the following link to get familiar with extracting the feature impotance order of machine learning algorithms in Python: \n",
        "\n",
        "https://machinelearningmastery.com/calculate-feature-importance-with-python/\n",
        "\n",
        "After we identified and removed the least important feature and evaluated a new KNN model on the new set of features, if the stop conditions (see step 7 below) are not met, we need to remove another feature. To do that we fit a new decision tree to the remaining features and identify the least important feature. \n",
        "\n",
        "\n",
        "Design a function ( `Feature_selector`) that accepts your dataset (X_train , y_train) and a threshold as inputs and: **[3]**\n",
        "1. Fits a decision tree classifier on the training set.\n",
        "\n",
        "2. Extracts the feature importance order of the decision tree model.\n",
        "\n",
        "3. Each time, removes the least important feature based on step 2. \n",
        "4. Then, a KNN model is trained on the remaining features. The number of neighbors (`k`) for each KNN model should be tuned using a 5-fold cross-validation.\n",
        "5. Store the best `mean cross-validation` score and the corresponding `k` (number of neighbours) value in two lists.\n",
        "6. Go back to step 1, fit a new tree on the reduced dataset and follow all the steps until you meet the stop condition. \n",
        " \n",
        "7. We will stop this process when (1) there is only one feature left, or (2) our cross-validation accuracy is dropped significantly compared to a model that uses all the features. In this function, we accept a threshold as an input argument. For example, if threshold=0.95 we do not continue removing features if our mean cross-validation accuracy after tuning `k` is bellow **0.95 $\\times$ Full Feature cross-validation accuracy**.\n",
        "\n",
        "8. Your function returns the list of removed features, and the corresponding mean cross-validation accuracy and `k` value when a feature was removed.\n",
        "\n",
        "* Visualize your results by plotting the mean cross-validation accuracy (with a tuned `k` on y axis) vs. the number of features (x axis). This plot describes: what is the best cv score with 1 feature, 2 features, 3 features ... and all the features. **[0.5]**\n",
        "\n",
        "* Plot the best value of `k` (y-axis) vs. the number of features. This plot explains the trend of number of neighbours with respect to the number of features.  **[0.5]**\n",
        "\n",
        "  \n",
        "  \n",
        "\n",
        "\n",
        "\n",
        "\n",
        "\n",
        "\n",
        "\n",
        " "
      ]
    },
    {
      "cell_type": "markdown",
      "metadata": {
        "id": "LPcG6_UIdAaT"
      },
      "source": [
        "You can use the following piece of code to start training a decision tree classifier and obtain its feature importance order. \n",
        "```\n",
        "from sklearn import tree\n",
        "dt = tree.DecisionTreeClassifier()\n",
        "dt.fit(X_train,y_train)\n",
        "importance = dt.feature_importances_\n",
        "```\n"
      ]
    },
    {
      "cell_type": "code",
      "metadata": {
        "id": "oiFUWWnE0QVc"
      },
      "source": [
        "from sklearn import tree\n",
        "#full_feature_score is the Full Feature cross-validation accuracy that I got in part 2\n",
        "full_feature_score=max(score_df['validationScore'])\n",
        "X_train=train_X #duplicate a training set to preserve a original full feature training data,just in case\n",
        "#store full feature names,just in case\n",
        "column=train_X.columns\n",
        "#create 2 empty lists for mean cv scores and corresponding k\n",
        "best_scores=[]\n",
        "best_k=[]\n",
        "#create an empty list for removed features\n",
        "remove=[]"
      ],
      "execution_count": null,
      "outputs": []
    },
    {
      "cell_type": "code",
      "metadata": {
        "id": "as-7DfC7pIh-"
      },
      "source": [
        "def Feature_selector (X_train , y_train , tr, best_scores, best_k, remove):\n",
        " \n",
        " ##fit a decision tree classifier##\n",
        " dt = tree.DecisionTreeClassifier()\n",
        " dt.fit(X_train,y_train)\n",
        " #extract the feature importance##\n",
        " importance = dt.feature_importances_\n",
        " \n",
        " ##find the least important feature##\n",
        " to_be_drop=np.where(importance==min(importance))#\"to_be_drop\" array contains all indexes that has least importantce score\n",
        " to_be_drop=np.ravel(to_be_drop)\n",
        " ##removes the least important features##\n",
        " drop_feature=to_be_drop[0]\n",
        " remove.append(X_train.columns[drop_feature]) \n",
        " X_train=X_train.drop(X_train.columns[drop_feature],axis=1)\n",
        " #print the output to keep tracks of the running function, easy to see the process\n",
        " print(\"the removed column is :\", remove[-1])\n",
        " ## a KNN model is trained on the remaining features and select k using cross-validation##\n",
        " scores_test_dt=[]\n",
        " for i in range(1,101):\n",
        "      knn_dt = neighbors.KNeighborsClassifier(n_neighbors=i)\n",
        "      score_dt = cross_validate(knn_dt, X_train, y_train, cv=5, return_train_score=True)\n",
        "      scores_test_dt.append(score_dt['test_score'].mean())\n",
        "\n",
        " ##select the highest test_score of 100 mean cv scores##   \n",
        " best_scores.append(max(scores_test_dt))\n",
        " best_k.append(np.argmax(scores_test_dt)+1)\n",
        " \n",
        " ##stop conditions described in step 7##\n",
        " if X_train.shape[1] < 2:\n",
        "       return best_scores,best_k,remove\n",
        "\n",
        " else:\n",
        "       if best_scores[-1]<tr*full_feature_score:\n",
        "            return best_scores,best_k,remove\n",
        "       \n",
        "       else:\n",
        "            return Feature_selector(X_train, y_train, tr, best_scores, best_k,remove)"
      ],
      "execution_count": null,
      "outputs": []
    },
    {
      "cell_type": "code",
      "metadata": {
        "id": "ECuuSAXIpIiA",
        "outputId": "c43ac135-e49a-43bc-9dd6-b29d967f112e"
      },
      "source": [
        "Feature_selector(X_train,train_y,0.95,best_scores,best_k,remove)#call the function on training set"
      ],
      "execution_count": null,
      "outputs": [
        {
          "name": "stdout",
          "output_type": "stream",
          "text": [
            "the removed column is : mean radius\n",
            "the removed column is : mean perimeter\n",
            "the removed column is : mean texture\n",
            "the removed column is : mean area\n",
            "the removed column is : mean smoothness\n",
            "the removed column is : mean compactness\n",
            "the removed column is : mean concavity\n",
            "the removed column is : mean concave points\n",
            "the removed column is : mean fractal dimension\n",
            "the removed column is : texture error\n",
            "the removed column is : perimeter error\n",
            "the removed column is : smoothness error\n",
            "the removed column is : compactness error\n",
            "the removed column is : concavity error\n",
            "the removed column is : symmetry error\n",
            "the removed column is : worst perimeter\n",
            "the removed column is : worst area\n",
            "the removed column is : concave points error\n",
            "the removed column is : worst smoothness\n",
            "the removed column is : worst compactness\n",
            "the removed column is : worst fractal dimension\n",
            "the removed column is : fractal dimension error\n",
            "the removed column is : radius error\n",
            "the removed column is : mean symmetry\n",
            "the removed column is : worst concavity\n",
            "the removed column is : worst texture\n",
            "the removed column is : worst symmetry\n",
            "the removed column is : area error\n",
            "the removed column is : worst radius\n"
          ]
        },
        {
          "data": {
            "text/plain": [
              "([0.9346518987341772,\n",
              "  0.9346518987341772,\n",
              "  0.9321518987341773,\n",
              "  0.9145886075949367,\n",
              "  0.9145886075949367,\n",
              "  0.9145886075949367,\n",
              "  0.9145886075949367,\n",
              "  0.9145886075949367,\n",
              "  0.9145886075949367,\n",
              "  0.9145886075949367,\n",
              "  0.9145886075949367,\n",
              "  0.9145886075949367,\n",
              "  0.9145886075949367,\n",
              "  0.9145886075949367,\n",
              "  0.9145886075949367,\n",
              "  0.9145569620253164,\n",
              "  0.904493670886076,\n",
              "  0.904493670886076,\n",
              "  0.904493670886076,\n",
              "  0.9020569620253165,\n",
              "  0.9020569620253165,\n",
              "  0.9020569620253165,\n",
              "  0.9020569620253165,\n",
              "  0.9020569620253165,\n",
              "  0.9020569620253165,\n",
              "  0.8993670886075948,\n",
              "  0.8993670886075948,\n",
              "  0.9120569620253164,\n",
              "  0.9246202531645569],\n",
              " [10,\n",
              "  11,\n",
              "  7,\n",
              "  34,\n",
              "  34,\n",
              "  34,\n",
              "  34,\n",
              "  34,\n",
              "  34,\n",
              "  34,\n",
              "  34,\n",
              "  34,\n",
              "  34,\n",
              "  34,\n",
              "  34,\n",
              "  61,\n",
              "  1,\n",
              "  1,\n",
              "  1,\n",
              "  5,\n",
              "  5,\n",
              "  5,\n",
              "  5,\n",
              "  5,\n",
              "  5,\n",
              "  3,\n",
              "  3,\n",
              "  38,\n",
              "  34],\n",
              " ['mean radius',\n",
              "  'mean perimeter',\n",
              "  'mean texture',\n",
              "  'mean area',\n",
              "  'mean smoothness',\n",
              "  'mean compactness',\n",
              "  'mean concavity',\n",
              "  'mean concave points',\n",
              "  'mean fractal dimension',\n",
              "  'texture error',\n",
              "  'perimeter error',\n",
              "  'smoothness error',\n",
              "  'compactness error',\n",
              "  'concavity error',\n",
              "  'symmetry error',\n",
              "  'worst perimeter',\n",
              "  'worst area',\n",
              "  'concave points error',\n",
              "  'worst smoothness',\n",
              "  'worst compactness',\n",
              "  'worst fractal dimension',\n",
              "  'fractal dimension error',\n",
              "  'radius error',\n",
              "  'mean symmetry',\n",
              "  'worst concavity',\n",
              "  'worst texture',\n",
              "  'worst symmetry',\n",
              "  'area error',\n",
              "  'worst radius'])"
            ]
          },
          "execution_count": 22,
          "metadata": {},
          "output_type": "execute_result"
        }
      ]
    },
    {
      "cell_type": "code",
      "metadata": {
        "id": "VXHKVCV6pIiA",
        "outputId": "7609b8a1-a457-4f47-ffb9-0289b625b663"
      },
      "source": [
        "len(remove)#check how many times the function removes the features"
      ],
      "execution_count": null,
      "outputs": [
        {
          "data": {
            "text/plain": [
              "29"
            ]
          },
          "execution_count": 24,
          "metadata": {},
          "output_type": "execute_result"
        }
      ]
    },
    {
      "cell_type": "code",
      "metadata": {
        "id": "88qQDzNppIiB",
        "outputId": "3baa0846-faa2-484c-8fe8-901f1b4cd7f2"
      },
      "source": [
        "#create a dataframe that contains all the results we get from the function above\n",
        "select_feature_df=pd.DataFrame(data=best_scores,columns=['cross-validation accuracy'])\n",
        "select_feature_df['optimal k']=pd.DataFrame(data=best_k)\n",
        "#create a column that contains number of feature in the training set\n",
        "temp=np.arange(1,30)\n",
        "temp=temp[::-1]\n",
        "select_feature_df['num of feature']=temp.reshape(-1,1)\n",
        "row=pd.DataFrame([[full_feature_score,10,30]], columns=['cross-validation accuracy','optimal k','num of feature'])\n",
        "select_feature_df=pd.concat([row,select_feature_df]).reset_index(drop=True)\n",
        "select_feature_df.head()\n"
      ],
      "execution_count": null,
      "outputs": [
        {
          "data": {
            "text/html": [
              "<div>\n",
              "<style scoped>\n",
              "    .dataframe tbody tr th:only-of-type {\n",
              "        vertical-align: middle;\n",
              "    }\n",
              "\n",
              "    .dataframe tbody tr th {\n",
              "        vertical-align: top;\n",
              "    }\n",
              "\n",
              "    .dataframe thead th {\n",
              "        text-align: right;\n",
              "    }\n",
              "</style>\n",
              "<table border=\"1\" class=\"dataframe\">\n",
              "  <thead>\n",
              "    <tr style=\"text-align: right;\">\n",
              "      <th></th>\n",
              "      <th>cross-validation accuracy</th>\n",
              "      <th>optimal k</th>\n",
              "      <th>num of feature</th>\n",
              "    </tr>\n",
              "  </thead>\n",
              "  <tbody>\n",
              "    <tr>\n",
              "      <th>0</th>\n",
              "      <td>0.934652</td>\n",
              "      <td>10</td>\n",
              "      <td>30</td>\n",
              "    </tr>\n",
              "    <tr>\n",
              "      <th>1</th>\n",
              "      <td>0.934652</td>\n",
              "      <td>10</td>\n",
              "      <td>29</td>\n",
              "    </tr>\n",
              "    <tr>\n",
              "      <th>2</th>\n",
              "      <td>0.934652</td>\n",
              "      <td>11</td>\n",
              "      <td>28</td>\n",
              "    </tr>\n",
              "    <tr>\n",
              "      <th>3</th>\n",
              "      <td>0.932152</td>\n",
              "      <td>7</td>\n",
              "      <td>27</td>\n",
              "    </tr>\n",
              "    <tr>\n",
              "      <th>4</th>\n",
              "      <td>0.914589</td>\n",
              "      <td>34</td>\n",
              "      <td>26</td>\n",
              "    </tr>\n",
              "  </tbody>\n",
              "</table>\n",
              "</div>"
            ],
            "text/plain": [
              "   cross-validation accuracy  optimal k  num of feature\n",
              "0                   0.934652         10              30\n",
              "1                   0.934652         10              29\n",
              "2                   0.934652         11              28\n",
              "3                   0.932152          7              27\n",
              "4                   0.914589         34              26"
            ]
          },
          "execution_count": 25,
          "metadata": {},
          "output_type": "execute_result"
        }
      ]
    },
    {
      "cell_type": "code",
      "metadata": {
        "id": "0tx-ywf_pIiC",
        "outputId": "da3e5bee-0db8-406b-e9c6-29a92ca45378"
      },
      "source": [
        "#Visualize your results by plotting the mean cross-validation accuracy (with a tuned k on y axis) vs. the number of features (x axis). \n",
        "#This plot describes: what is the best cv score with 1 feature, 2 features, 3 features ... and all the features. \n",
        "plt.plot('num of feature','cross-validation accuracy',data=select_feature_df)\n",
        "plt.xlabel('number of features')\n",
        "plt.ylabel('accuracy')\n",
        "plt.show()"
      ],
      "execution_count": null,
      "outputs": [
        {
          "data": {
            "image/png": "[encoded data removed]",
            "text/plain": [
              "<Figure size 432x288 with 1 Axes>"
            ]
          },
          "metadata": {
            "needs_background": "light"
          },
          "output_type": "display_data"
        }
      ]
    },
    {
      "cell_type": "code",
      "metadata": {
        "id": "Cd3y6VY6pIiD",
        "outputId": "2c83b9cf-266b-4220-b3ca-0047d56f2872"
      },
      "source": [
        "#Plot the best value of k (y-axis) vs. the number of features. \n",
        "#This plot explains the trend of number of neighbours with respect to the number of features.\n",
        "plt.plot('num of feature','optimal k',data=select_feature_df)\n",
        "plt.xlabel('number of features')\n",
        "plt.ylabel('best k')\n",
        "plt.show()"
      ],
      "execution_count": null,
      "outputs": [
        {
          "data": {
            "image/png": "[encoded data removed]",
            "text/plain": [
              "<Figure size 432x288 with 1 Axes>"
            ]
          },
          "metadata": {
            "needs_background": "light"
          },
          "output_type": "display_data"
        }
      ]
    },
    {
      "cell_type": "markdown",
      "metadata": {
        "id": "GTXjb1sWmDZL"
      },
      "source": [
        "## Part 4: Standardization [1.5 Marks]\n",
        "\n",
        "Standardizing the data usually means scaling our data to have a mean of zero and a standard deviation of one. \n",
        "\n",
        "**Note:** When we standardize a dataset, do we care if the data points are in our training set or test set? Yes! The training set is available for us to train a model - we can use it however we want. The test set, however, represents a subset of data that is not available for us during training. For example, the test set can represent the data that someone who bought our model would use to see how the model performs (which they are not willing to share with us).\n",
        "Therefore, we cannot compute the mean or standard deviation of the whole dataset to standardize it - we can only calculate the mean and standard deviation of the training set. However, when we sell a model to someone, we can say what our scalers (mean and standard deviation of our training set) was. They can scale their data (test set) with our training set's mean and standard deviation. Of course, there is no guarantee that the test set would have a mean of zero and a standard deviation of one, but it should work fine.\n",
        "\n",
        "**To summarize: We fit the StandardScaler only on the training set. We transform both training and test sets with that scaler.**\n",
        "\n",
        "1. Standardize the training  and test data ([Help](https://scikit-learn.org/stable/modules/preprocessing.html)) **[0.5]**\n",
        "\n",
        "2. Call your ``Feature_selector`` function on the standardized training data with a threshold of 0.95\\%.  **[0.5]**\n",
        " * Plot the Cross validation accuracy when we have the standardized data (this part) and the original training data (last part) vs. the Number of features in a single plot (to compare them easily).\n",
        "\n",
        "3. Discuss how standardization (helped/hurt) your model and its performance? Discuss which cases lead to a higher cross validation accuracy (how many features? which features? What K?) **[0.5]**\n"
      ]
    },
    {
      "cell_type": "code",
      "metadata": {
        "id": "xAwAGR6_2bu3",
        "outputId": "6bd2d65c-7674-4d49-deeb-0f1d0d367b3b"
      },
      "source": [
        "## Standardize the training and test data ##\n",
        "from sklearn.preprocessing import StandardScaler\n",
        "scaler_1 = StandardScaler()\n",
        "train_X_scaler = scaler_1.fit_transform(train_X)\n",
        "test_X_scaler=scaler_1.transform(test_X)\n",
        "train_X_standard=pd.DataFrame(data=train_X_scaler,columns=train_X.columns)#convert the numpy array into dataframe,and add the column names\n",
        "train_X_standard.head()\n"
      ],
      "execution_count": null,
      "outputs": [
        {
          "data": {
            "text/html": [
              "<div>\n",
              "<style scoped>\n",
              "    .dataframe tbody tr th:only-of-type {\n",
              "        vertical-align: middle;\n",
              "    }\n",
              "\n",
              "    .dataframe tbody tr th {\n",
              "        vertical-align: top;\n",
              "    }\n",
              "\n",
              "    .dataframe thead th {\n",
              "        text-align: right;\n",
              "    }\n",
              "</style>\n",
              "<table border=\"1\" class=\"dataframe\">\n",
              "  <thead>\n",
              "    <tr style=\"text-align: right;\">\n",
              "      <th></th>\n",
              "      <th>mean radius</th>\n",
              "      <th>mean texture</th>\n",
              "      <th>mean perimeter</th>\n",
              "      <th>mean area</th>\n",
              "      <th>mean smoothness</th>\n",
              "      <th>mean compactness</th>\n",
              "      <th>mean concavity</th>\n",
              "      <th>mean concave points</th>\n",
              "      <th>mean symmetry</th>\n",
              "      <th>mean fractal dimension</th>\n",
              "      <th>...</th>\n",
              "      <th>worst radius</th>\n",
              "      <th>worst texture</th>\n",
              "      <th>worst perimeter</th>\n",
              "      <th>worst area</th>\n",
              "      <th>worst smoothness</th>\n",
              "      <th>worst compactness</th>\n",
              "      <th>worst concavity</th>\n",
              "      <th>worst concave points</th>\n",
              "      <th>worst symmetry</th>\n",
              "      <th>worst fractal dimension</th>\n",
              "    </tr>\n",
              "  </thead>\n",
              "  <tbody>\n",
              "    <tr>\n",
              "      <th>0</th>\n",
              "      <td>-0.749980</td>\n",
              "      <td>-1.099787</td>\n",
              "      <td>-0.741586</td>\n",
              "      <td>-0.701887</td>\n",
              "      <td>0.584593</td>\n",
              "      <td>-0.427726</td>\n",
              "      <td>-0.457550</td>\n",
              "      <td>-0.760550</td>\n",
              "      <td>-0.099860</td>\n",
              "      <td>0.451444</td>\n",
              "      <td>...</td>\n",
              "      <td>-0.798483</td>\n",
              "      <td>-0.591967</td>\n",
              "      <td>-0.746602</td>\n",
              "      <td>-0.714529</td>\n",
              "      <td>0.116328</td>\n",
              "      <td>-0.341255</td>\n",
              "      <td>-0.046272</td>\n",
              "      <td>-0.623597</td>\n",
              "      <td>0.077542</td>\n",
              "      <td>0.450628</td>\n",
              "    </tr>\n",
              "    <tr>\n",
              "      <th>1</th>\n",
              "      <td>-1.028214</td>\n",
              "      <td>-0.139262</td>\n",
              "      <td>-1.029804</td>\n",
              "      <td>-0.894732</td>\n",
              "      <td>0.742882</td>\n",
              "      <td>-0.731843</td>\n",
              "      <td>-0.843301</td>\n",
              "      <td>-0.808805</td>\n",
              "      <td>-1.159759</td>\n",
              "      <td>0.489386</td>\n",
              "      <td>...</td>\n",
              "      <td>-1.068703</td>\n",
              "      <td>-0.161981</td>\n",
              "      <td>-1.074343</td>\n",
              "      <td>-0.868941</td>\n",
              "      <td>0.382001</td>\n",
              "      <td>-0.970737</td>\n",
              "      <td>-0.954894</td>\n",
              "      <td>-0.761238</td>\n",
              "      <td>-1.071453</td>\n",
              "      <td>-0.295414</td>\n",
              "    </tr>\n",
              "    <tr>\n",
              "      <th>2</th>\n",
              "      <td>-0.538522</td>\n",
              "      <td>-0.299349</td>\n",
              "      <td>-0.568574</td>\n",
              "      <td>-0.550561</td>\n",
              "      <td>-0.714814</td>\n",
              "      <td>-0.731647</td>\n",
              "      <td>-0.639856</td>\n",
              "      <td>-0.668125</td>\n",
              "      <td>0.581758</td>\n",
              "      <td>-0.053477</td>\n",
              "      <td>...</td>\n",
              "      <td>-0.558512</td>\n",
              "      <td>-0.051227</td>\n",
              "      <td>-0.614110</td>\n",
              "      <td>-0.552748</td>\n",
              "      <td>-0.471637</td>\n",
              "      <td>-0.485919</td>\n",
              "      <td>-0.384602</td>\n",
              "      <td>-0.504704</td>\n",
              "      <td>0.349008</td>\n",
              "      <td>-0.133716</td>\n",
              "    </tr>\n",
              "    <tr>\n",
              "      <th>3</th>\n",
              "      <td>1.147577</td>\n",
              "      <td>-0.146430</td>\n",
              "      <td>1.061698</td>\n",
              "      <td>1.035628</td>\n",
              "      <td>-0.762301</td>\n",
              "      <td>-0.380637</td>\n",
              "      <td>-0.091016</td>\n",
              "      <td>0.221141</td>\n",
              "      <td>-0.663712</td>\n",
              "      <td>-1.225303</td>\n",
              "      <td>...</td>\n",
              "      <td>0.998276</td>\n",
              "      <td>0.134448</td>\n",
              "      <td>0.914190</td>\n",
              "      <td>0.863760</td>\n",
              "      <td>-0.397597</td>\n",
              "      <td>-0.057793</td>\n",
              "      <td>0.441794</td>\n",
              "      <td>0.638339</td>\n",
              "      <td>0.495789</td>\n",
              "      <td>-0.799466</td>\n",
              "    </tr>\n",
              "    <tr>\n",
              "      <th>4</th>\n",
              "      <td>-2.004538</td>\n",
              "      <td>-1.376954</td>\n",
              "      <td>-1.962370</td>\n",
              "      <td>-1.415904</td>\n",
              "      <td>1.476766</td>\n",
              "      <td>-0.557221</td>\n",
              "      <td>-1.137578</td>\n",
              "      <td>-1.263267</td>\n",
              "      <td>0.439011</td>\n",
              "      <td>2.266825</td>\n",
              "      <td>...</td>\n",
              "      <td>-1.699888</td>\n",
              "      <td>-0.976348</td>\n",
              "      <td>-1.665615</td>\n",
              "      <td>-1.187480</td>\n",
              "      <td>1.126757</td>\n",
              "      <td>-0.867778</td>\n",
              "      <td>-1.391304</td>\n",
              "      <td>-1.756275</td>\n",
              "      <td>0.063338</td>\n",
              "      <td>0.563260</td>\n",
              "    </tr>\n",
              "  </tbody>\n",
              "</table>\n",
              "<p>5 rows × 30 columns</p>\n",
              "</div>"
            ],
            "text/plain": [
              "   mean radius  mean texture  mean perimeter  mean area  mean smoothness  \\\n",
              "0    -0.749980     -1.099787       -0.741586  -0.701887         0.584593   \n",
              "1    -1.028214     -0.139262       -1.029804  -0.894732         0.742882   \n",
              "2    -0.538522     -0.299349       -0.568574  -0.550561        -0.714814   \n",
              "3     1.147577     -0.146430        1.061698   1.035628        -0.762301   \n",
              "4    -2.004538     -1.376954       -1.962370  -1.415904         1.476766   \n",
              "\n",
              "   mean compactness  mean concavity  mean concave points  mean symmetry  \\\n",
              "0         -0.427726       -0.457550            -0.760550      -0.099860   \n",
              "1         -0.731843       -0.843301            -0.808805      -1.159759   \n",
              "2         -0.731647       -0.639856            -0.668125       0.581758   \n",
              "3         -0.380637       -0.091016             0.221141      -0.663712   \n",
              "4         -0.557221       -1.137578            -1.263267       0.439011   \n",
              "\n",
              "   mean fractal dimension  ...  worst radius  worst texture  worst perimeter  \\\n",
              "0                0.451444  ...     -0.798483      -0.591967        -0.746602   \n",
              "1                0.489386  ...     -1.068703      -0.161981        -1.074343   \n",
              "2               -0.053477  ...     -0.558512      -0.051227        -0.614110   \n",
              "3               -1.225303  ...      0.998276       0.134448         0.914190   \n",
              "4                2.266825  ...     -1.699888      -0.976348        -1.665615   \n",
              "\n",
              "   worst area  worst smoothness  worst compactness  worst concavity  \\\n",
              "0   -0.714529          0.116328          -0.341255        -0.046272   \n",
              "1   -0.868941          0.382001          -0.970737        -0.954894   \n",
              "2   -0.552748         -0.471637          -0.485919        -0.384602   \n",
              "3    0.863760         -0.397597          -0.057793         0.441794   \n",
              "4   -1.187480          1.126757          -0.867778        -1.391304   \n",
              "\n",
              "   worst concave points  worst symmetry  worst fractal dimension  \n",
              "0             -0.623597        0.077542                 0.450628  \n",
              "1             -0.761238       -1.071453                -0.295414  \n",
              "2             -0.504704        0.349008                -0.133716  \n",
              "3              0.638339        0.495789                -0.799466  \n",
              "4             -1.756275        0.063338                 0.563260  \n",
              "\n",
              "[5 rows x 30 columns]"
            ]
          },
          "execution_count": 63,
          "metadata": {},
          "output_type": "execute_result"
        }
      ]
    },
    {
      "cell_type": "code",
      "metadata": {
        "id": "cSNmkKLFpIiG",
        "outputId": "b140d5e1-3ede-49ce-b44d-ae9ee8b8a08a"
      },
      "source": [
        "#convert y to df and reset the index of trianing label in order to align with the index of train_X_standard\n",
        "train_y_standard=train_y.reset_index(drop=True)\n",
        "train_y_standard"
      ],
      "execution_count": null,
      "outputs": [
        {
          "data": {
            "text/plain": [
              "0      1\n",
              "1      1\n",
              "2      1\n",
              "3      0\n",
              "4      1\n",
              "      ..\n",
              "393    0\n",
              "394    0\n",
              "395    1\n",
              "396    1\n",
              "397    1\n",
              "Name: target, Length: 398, dtype: int32"
            ]
          },
          "execution_count": 64,
          "metadata": {},
          "output_type": "execute_result"
        }
      ]
    },
    {
      "cell_type": "code",
      "metadata": {
        "id": "0_uKsgxspIiH",
        "outputId": "fcbacd7b-a666-4d52-e3dc-fa393534ab8e"
      },
      "source": [
        "#calculate the score of standardized model with full feature\n",
        "scores_test_s=[]\n",
        "scores_train_s=[]\n",
        "for j in range(1,101):\n",
        "  knn_s= neighbors.KNeighborsClassifier(n_neighbors=j)\n",
        "  score_s = cross_validate(knn_s, train_X_standard, train_y_standard, cv=5, return_train_score=True)\n",
        "  scores_test_s.append(score_s['test_score'].mean())\n",
        "  scores_train_s.append(score_s['train_score'].mean())\n",
        "    \n",
        "score_part4=pd.DataFrame(data=scores_test_s,columns=['validationScore_s'])\n",
        "score_part4['trainScore_s']=pd.DataFrame(data=scores_train_s)\n",
        "score_part4['k_s']=np.arange(1,101).reshape((-1,1))#add a new column which contains k values from 1 to 100\n",
        "score_part4.head()\n",
        "score_part4[score_part4['validationScore_s']==max(score_part4['validationScore_s'])]\n"
      ],
      "execution_count": null,
      "outputs": [
        {
          "data": {
            "text/html": [
              "<div>\n",
              "<style scoped>\n",
              "    .dataframe tbody tr th:only-of-type {\n",
              "        vertical-align: middle;\n",
              "    }\n",
              "\n",
              "    .dataframe tbody tr th {\n",
              "        vertical-align: top;\n",
              "    }\n",
              "\n",
              "    .dataframe thead th {\n",
              "        text-align: right;\n",
              "    }\n",
              "</style>\n",
              "<table border=\"1\" class=\"dataframe\">\n",
              "  <thead>\n",
              "    <tr style=\"text-align: right;\">\n",
              "      <th></th>\n",
              "      <th>validationScore_s</th>\n",
              "      <th>trainScore_s</th>\n",
              "      <th>k_s</th>\n",
              "    </tr>\n",
              "  </thead>\n",
              "  <tbody>\n",
              "    <tr>\n",
              "      <th>9</th>\n",
              "      <td>0.967437</td>\n",
              "      <td>0.967972</td>\n",
              "      <td>10</td>\n",
              "    </tr>\n",
              "  </tbody>\n",
              "</table>\n",
              "</div>"
            ],
            "text/plain": [
              "   validationScore_s  trainScore_s  k_s\n",
              "9           0.967437      0.967972   10"
            ]
          },
          "execution_count": 30,
          "metadata": {},
          "output_type": "execute_result"
        }
      ]
    },
    {
      "cell_type": "code",
      "metadata": {
        "id": "xf2ucGYZpIiI",
        "outputId": "71b6c996-3db6-4f50-92d2-f2e4fb4373f0"
      },
      "source": [
        "#from the output above,we know that the best accuracy is 0.967437 with k=10\n",
        "full_feature_score_s=0.967437\n",
        "full_feature_k_s=10\n",
        "#create 2 empty lists for mean cv scores and corresponding k\n",
        "best_scores_standard=[]\n",
        "best_k_standard=[]\n",
        "#create an empty list for removed features\n",
        "remove_standard=[]\n",
        "#Call Feature_selector function on the standardized training data with a threshold of 0.95%\n",
        "Feature_selector(train_X_standard,train_y_standard,0.95,best_scores_standard,best_k_standard,remove_standard)"
      ],
      "execution_count": null,
      "outputs": [
        {
          "name": "stdout",
          "output_type": "stream",
          "text": [
            "the removed column is : mean radius\n",
            "the removed column is : mean texture\n",
            "the removed column is : mean area\n",
            "the removed column is : mean perimeter\n",
            "the removed column is : mean smoothness\n",
            "the removed column is : mean compactness\n",
            "the removed column is : mean concavity\n",
            "the removed column is : mean concave points\n",
            "the removed column is : mean fractal dimension\n",
            "the removed column is : texture error\n",
            "the removed column is : perimeter error\n",
            "the removed column is : smoothness error\n",
            "the removed column is : compactness error\n",
            "the removed column is : concavity error\n",
            "the removed column is : symmetry error\n",
            "the removed column is : worst perimeter\n",
            "the removed column is : concave points error\n",
            "the removed column is : worst radius\n",
            "the removed column is : worst compactness\n",
            "the removed column is : worst fractal dimension\n",
            "the removed column is : worst smoothness\n",
            "the removed column is : fractal dimension error\n",
            "the removed column is : radius error\n",
            "the removed column is : mean symmetry\n",
            "the removed column is : worst texture\n",
            "the removed column is : worst symmetry\n",
            "the removed column is : worst concavity\n",
            "the removed column is : area error\n",
            "the removed column is : worst area\n"
          ]
        },
        {
          "data": {
            "text/plain": [
              "([0.9649683544303798,\n",
              "  0.9623417721518986,\n",
              "  0.9623417721518986,\n",
              "  0.9598417721518988,\n",
              "  0.9572468354430381,\n",
              "  0.9623417721518986,\n",
              "  0.9573101265822783,\n",
              "  0.9573101265822785,\n",
              "  0.9548101265822785,\n",
              "  0.9573417721518988,\n",
              "  0.9573417721518986,\n",
              "  0.9597784810126582,\n",
              "  0.9623417721518986,\n",
              "  0.9648734177215189,\n",
              "  0.9648417721518987,\n",
              "  0.959746835443038,\n",
              "  0.9623417721518986,\n",
              "  0.954778481012658,\n",
              "  0.9573417721518986,\n",
              "  0.9648734177215189,\n",
              "  0.9624050632911392,\n",
              "  0.9598417721518986,\n",
              "  0.9624050632911393,\n",
              "  0.9675,\n",
              "  0.9573417721518986,\n",
              "  0.957373417721519,\n",
              "  0.9572784810126581,\n",
              "  0.9496518987341773,\n",
              "  0.9246202531645569],\n",
              " [8,\n",
              "  4,\n",
              "  5,\n",
              "  8,\n",
              "  5,\n",
              "  7,\n",
              "  7,\n",
              "  8,\n",
              "  7,\n",
              "  7,\n",
              "  8,\n",
              "  5,\n",
              "  4,\n",
              "  8,\n",
              "  8,\n",
              "  3,\n",
              "  8,\n",
              "  11,\n",
              "  12,\n",
              "  12,\n",
              "  18,\n",
              "  11,\n",
              "  10,\n",
              "  8,\n",
              "  28,\n",
              "  27,\n",
              "  5,\n",
              "  6,\n",
              "  34],\n",
              " ['mean radius',\n",
              "  'mean texture',\n",
              "  'mean area',\n",
              "  'mean perimeter',\n",
              "  'mean smoothness',\n",
              "  'mean compactness',\n",
              "  'mean concavity',\n",
              "  'mean concave points',\n",
              "  'mean fractal dimension',\n",
              "  'texture error',\n",
              "  'perimeter error',\n",
              "  'smoothness error',\n",
              "  'compactness error',\n",
              "  'concavity error',\n",
              "  'symmetry error',\n",
              "  'worst perimeter',\n",
              "  'concave points error',\n",
              "  'worst radius',\n",
              "  'worst compactness',\n",
              "  'worst fractal dimension',\n",
              "  'worst smoothness',\n",
              "  'fractal dimension error',\n",
              "  'radius error',\n",
              "  'mean symmetry',\n",
              "  'worst texture',\n",
              "  'worst symmetry',\n",
              "  'worst concavity',\n",
              "  'area error',\n",
              "  'worst area'])"
            ]
          },
          "execution_count": 51,
          "metadata": {},
          "output_type": "execute_result"
        }
      ]
    },
    {
      "cell_type": "code",
      "metadata": {
        "id": "3qZ1lizZpIiJ",
        "outputId": "4f117433-5b44-4651-fc2f-5acb8c6f406a"
      },
      "source": [
        "#create a dataframe that contains all the results after standardization\n",
        "select_feature_dfs=pd.DataFrame(data=best_scores_standard,columns=['cross-validation accuracy_s'])\n",
        "select_feature_dfs['optimal k']=pd.DataFrame(data=best_k_standard)\n",
        "#create a column that contains number of feature in the training set\n",
        "temp1=np.arange(1,30)\n",
        "temp1=temp1[::-1]\n",
        "select_feature_dfs['num of feature']=temp1.reshape(-1,1)\n",
        "row1=pd.DataFrame([[full_feature_score_s,full_feature_k_s,30]], columns=['cross-validation accuracy_s','optimal k','num of feature'])\n",
        "select_feature_dfs=pd.concat([row1,select_feature_dfs]).reset_index(drop=True)\n",
        "select_feature_dfs.head()"
      ],
      "execution_count": null,
      "outputs": [
        {
          "data": {
            "text/html": [
              "<div>\n",
              "<style scoped>\n",
              "    .dataframe tbody tr th:only-of-type {\n",
              "        vertical-align: middle;\n",
              "    }\n",
              "\n",
              "    .dataframe tbody tr th {\n",
              "        vertical-align: top;\n",
              "    }\n",
              "\n",
              "    .dataframe thead th {\n",
              "        text-align: right;\n",
              "    }\n",
              "</style>\n",
              "<table border=\"1\" class=\"dataframe\">\n",
              "  <thead>\n",
              "    <tr style=\"text-align: right;\">\n",
              "      <th></th>\n",
              "      <th>cross-validation accuracy_s</th>\n",
              "      <th>optimal k</th>\n",
              "      <th>num of feature</th>\n",
              "    </tr>\n",
              "  </thead>\n",
              "  <tbody>\n",
              "    <tr>\n",
              "      <th>0</th>\n",
              "      <td>0.967437</td>\n",
              "      <td>10</td>\n",
              "      <td>30</td>\n",
              "    </tr>\n",
              "    <tr>\n",
              "      <th>1</th>\n",
              "      <td>0.964968</td>\n",
              "      <td>8</td>\n",
              "      <td>29</td>\n",
              "    </tr>\n",
              "    <tr>\n",
              "      <th>2</th>\n",
              "      <td>0.962342</td>\n",
              "      <td>4</td>\n",
              "      <td>28</td>\n",
              "    </tr>\n",
              "    <tr>\n",
              "      <th>3</th>\n",
              "      <td>0.962342</td>\n",
              "      <td>5</td>\n",
              "      <td>27</td>\n",
              "    </tr>\n",
              "    <tr>\n",
              "      <th>4</th>\n",
              "      <td>0.959842</td>\n",
              "      <td>8</td>\n",
              "      <td>26</td>\n",
              "    </tr>\n",
              "  </tbody>\n",
              "</table>\n",
              "</div>"
            ],
            "text/plain": [
              "   cross-validation accuracy_s  optimal k  num of feature\n",
              "0                     0.967437         10              30\n",
              "1                     0.964968          8              29\n",
              "2                     0.962342          4              28\n",
              "3                     0.962342          5              27\n",
              "4                     0.959842          8              26"
            ]
          },
          "execution_count": 52,
          "metadata": {},
          "output_type": "execute_result"
        }
      ]
    },
    {
      "cell_type": "code",
      "metadata": {
        "id": "cvVW4LAjpIiJ",
        "outputId": "4b0cfe8e-3661-47f4-c69b-bea6bf48c279"
      },
      "source": [
        "plt.plot('num of feature','cross-validation accuracy_s',data=select_feature_dfs)\n",
        "plt.plot('num of feature','cross-validation accuracy',data=select_feature_df)\n",
        "plt.legend(['standardize','original'])\n",
        "plt.xlabel('number of features')\n",
        "plt.ylabel('accuracy')\n",
        "plt.show()"
      ],
      "execution_count": null,
      "outputs": [
        {
          "data": {
            "image/png": "[encoded data removed]",
            "text/plain": [
              "<Figure size 432x288 with 1 Axes>"
            ]
          },
          "metadata": {
            "needs_background": "light"
          },
          "output_type": "display_data"
        }
      ]
    },
    {
      "cell_type": "code",
      "metadata": {
        "id": "mi1nF_WtpIiK",
        "outputId": "502cace7-4931-4e38-f55a-077ab79b7ef3"
      },
      "source": [
        "#adding removed features names to the dataframe to better visualize the results of both standardized and unstandardized datasets\n",
        "t1=['none']#set the removed feature name='none' when we have full features\n",
        "t1=t1+remove_standard\n",
        "select_feature_dfs['removed_feature_s']=pd.DataFrame(data=t1)\n",
        "t2=t1+remove\n",
        "select_feature_df['removed_feature']=pd.DataFrame(data=t2)\n",
        "select_feature_dfs"
      ],
      "execution_count": null,
      "outputs": [
        {
          "data": {
            "text/html": [
              "<div>\n",
              "<style scoped>\n",
              "    .dataframe tbody tr th:only-of-type {\n",
              "        vertical-align: middle;\n",
              "    }\n",
              "\n",
              "    .dataframe tbody tr th {\n",
              "        vertical-align: top;\n",
              "    }\n",
              "\n",
              "    .dataframe thead th {\n",
              "        text-align: right;\n",
              "    }\n",
              "</style>\n",
              "<table border=\"1\" class=\"dataframe\">\n",
              "  <thead>\n",
              "    <tr style=\"text-align: right;\">\n",
              "      <th></th>\n",
              "      <th>cross-validation accuracy_s</th>\n",
              "      <th>optimal k</th>\n",
              "      <th>num of feature</th>\n",
              "      <th>removed_feature_s</th>\n",
              "    </tr>\n",
              "  </thead>\n",
              "  <tbody>\n",
              "    <tr>\n",
              "      <th>0</th>\n",
              "      <td>0.967437</td>\n",
              "      <td>10</td>\n",
              "      <td>30</td>\n",
              "      <td>none</td>\n",
              "    </tr>\n",
              "    <tr>\n",
              "      <th>1</th>\n",
              "      <td>0.964968</td>\n",
              "      <td>8</td>\n",
              "      <td>29</td>\n",
              "      <td>mean radius</td>\n",
              "    </tr>\n",
              "    <tr>\n",
              "      <th>2</th>\n",
              "      <td>0.962342</td>\n",
              "      <td>4</td>\n",
              "      <td>28</td>\n",
              "      <td>mean texture</td>\n",
              "    </tr>\n",
              "    <tr>\n",
              "      <th>3</th>\n",
              "      <td>0.962342</td>\n",
              "      <td>5</td>\n",
              "      <td>27</td>\n",
              "      <td>mean area</td>\n",
              "    </tr>\n",
              "    <tr>\n",
              "      <th>4</th>\n",
              "      <td>0.959842</td>\n",
              "      <td>8</td>\n",
              "      <td>26</td>\n",
              "      <td>mean perimeter</td>\n",
              "    </tr>\n",
              "    <tr>\n",
              "      <th>5</th>\n",
              "      <td>0.957247</td>\n",
              "      <td>5</td>\n",
              "      <td>25</td>\n",
              "      <td>mean smoothness</td>\n",
              "    </tr>\n",
              "    <tr>\n",
              "      <th>6</th>\n",
              "      <td>0.962342</td>\n",
              "      <td>7</td>\n",
              "      <td>24</td>\n",
              "      <td>mean compactness</td>\n",
              "    </tr>\n",
              "    <tr>\n",
              "      <th>7</th>\n",
              "      <td>0.957310</td>\n",
              "      <td>7</td>\n",
              "      <td>23</td>\n",
              "      <td>mean concavity</td>\n",
              "    </tr>\n",
              "    <tr>\n",
              "      <th>8</th>\n",
              "      <td>0.957310</td>\n",
              "      <td>8</td>\n",
              "      <td>22</td>\n",
              "      <td>mean concave points</td>\n",
              "    </tr>\n",
              "    <tr>\n",
              "      <th>9</th>\n",
              "      <td>0.954810</td>\n",
              "      <td>7</td>\n",
              "      <td>21</td>\n",
              "      <td>mean fractal dimension</td>\n",
              "    </tr>\n",
              "    <tr>\n",
              "      <th>10</th>\n",
              "      <td>0.957342</td>\n",
              "      <td>7</td>\n",
              "      <td>20</td>\n",
              "      <td>texture error</td>\n",
              "    </tr>\n",
              "    <tr>\n",
              "      <th>11</th>\n",
              "      <td>0.957342</td>\n",
              "      <td>8</td>\n",
              "      <td>19</td>\n",
              "      <td>perimeter error</td>\n",
              "    </tr>\n",
              "    <tr>\n",
              "      <th>12</th>\n",
              "      <td>0.959778</td>\n",
              "      <td>5</td>\n",
              "      <td>18</td>\n",
              "      <td>smoothness error</td>\n",
              "    </tr>\n",
              "    <tr>\n",
              "      <th>13</th>\n",
              "      <td>0.962342</td>\n",
              "      <td>4</td>\n",
              "      <td>17</td>\n",
              "      <td>compactness error</td>\n",
              "    </tr>\n",
              "    <tr>\n",
              "      <th>14</th>\n",
              "      <td>0.964873</td>\n",
              "      <td>8</td>\n",
              "      <td>16</td>\n",
              "      <td>concavity error</td>\n",
              "    </tr>\n",
              "    <tr>\n",
              "      <th>15</th>\n",
              "      <td>0.964842</td>\n",
              "      <td>8</td>\n",
              "      <td>15</td>\n",
              "      <td>symmetry error</td>\n",
              "    </tr>\n",
              "    <tr>\n",
              "      <th>16</th>\n",
              "      <td>0.959747</td>\n",
              "      <td>3</td>\n",
              "      <td>14</td>\n",
              "      <td>worst perimeter</td>\n",
              "    </tr>\n",
              "    <tr>\n",
              "      <th>17</th>\n",
              "      <td>0.962342</td>\n",
              "      <td>8</td>\n",
              "      <td>13</td>\n",
              "      <td>concave points error</td>\n",
              "    </tr>\n",
              "    <tr>\n",
              "      <th>18</th>\n",
              "      <td>0.954778</td>\n",
              "      <td>11</td>\n",
              "      <td>12</td>\n",
              "      <td>worst radius</td>\n",
              "    </tr>\n",
              "    <tr>\n",
              "      <th>19</th>\n",
              "      <td>0.957342</td>\n",
              "      <td>12</td>\n",
              "      <td>11</td>\n",
              "      <td>worst compactness</td>\n",
              "    </tr>\n",
              "    <tr>\n",
              "      <th>20</th>\n",
              "      <td>0.964873</td>\n",
              "      <td>12</td>\n",
              "      <td>10</td>\n",
              "      <td>worst fractal dimension</td>\n",
              "    </tr>\n",
              "    <tr>\n",
              "      <th>21</th>\n",
              "      <td>0.962405</td>\n",
              "      <td>18</td>\n",
              "      <td>9</td>\n",
              "      <td>worst smoothness</td>\n",
              "    </tr>\n",
              "    <tr>\n",
              "      <th>22</th>\n",
              "      <td>0.959842</td>\n",
              "      <td>11</td>\n",
              "      <td>8</td>\n",
              "      <td>fractal dimension error</td>\n",
              "    </tr>\n",
              "    <tr>\n",
              "      <th>23</th>\n",
              "      <td>0.962405</td>\n",
              "      <td>10</td>\n",
              "      <td>7</td>\n",
              "      <td>radius error</td>\n",
              "    </tr>\n",
              "    <tr>\n",
              "      <th>24</th>\n",
              "      <td>0.967500</td>\n",
              "      <td>8</td>\n",
              "      <td>6</td>\n",
              "      <td>mean symmetry</td>\n",
              "    </tr>\n",
              "    <tr>\n",
              "      <th>25</th>\n",
              "      <td>0.957342</td>\n",
              "      <td>28</td>\n",
              "      <td>5</td>\n",
              "      <td>worst texture</td>\n",
              "    </tr>\n",
              "    <tr>\n",
              "      <th>26</th>\n",
              "      <td>0.957373</td>\n",
              "      <td>27</td>\n",
              "      <td>4</td>\n",
              "      <td>worst symmetry</td>\n",
              "    </tr>\n",
              "    <tr>\n",
              "      <th>27</th>\n",
              "      <td>0.957278</td>\n",
              "      <td>5</td>\n",
              "      <td>3</td>\n",
              "      <td>worst concavity</td>\n",
              "    </tr>\n",
              "    <tr>\n",
              "      <th>28</th>\n",
              "      <td>0.949652</td>\n",
              "      <td>6</td>\n",
              "      <td>2</td>\n",
              "      <td>area error</td>\n",
              "    </tr>\n",
              "    <tr>\n",
              "      <th>29</th>\n",
              "      <td>0.924620</td>\n",
              "      <td>34</td>\n",
              "      <td>1</td>\n",
              "      <td>worst area</td>\n",
              "    </tr>\n",
              "  </tbody>\n",
              "</table>\n",
              "</div>"
            ],
            "text/plain": [
              "    cross-validation accuracy_s  optimal k  num of feature  \\\n",
              "0                      0.967437         10              30   \n",
              "1                      0.964968          8              29   \n",
              "2                      0.962342          4              28   \n",
              "3                      0.962342          5              27   \n",
              "4                      0.959842          8              26   \n",
              "5                      0.957247          5              25   \n",
              "6                      0.962342          7              24   \n",
              "7                      0.957310          7              23   \n",
              "8                      0.957310          8              22   \n",
              "9                      0.954810          7              21   \n",
              "10                     0.957342          7              20   \n",
              "11                     0.957342          8              19   \n",
              "12                     0.959778          5              18   \n",
              "13                     0.962342          4              17   \n",
              "14                     0.964873          8              16   \n",
              "15                     0.964842          8              15   \n",
              "16                     0.959747          3              14   \n",
              "17                     0.962342          8              13   \n",
              "18                     0.954778         11              12   \n",
              "19                     0.957342         12              11   \n",
              "20                     0.964873         12              10   \n",
              "21                     0.962405         18               9   \n",
              "22                     0.959842         11               8   \n",
              "23                     0.962405         10               7   \n",
              "24                     0.967500          8               6   \n",
              "25                     0.957342         28               5   \n",
              "26                     0.957373         27               4   \n",
              "27                     0.957278          5               3   \n",
              "28                     0.949652          6               2   \n",
              "29                     0.924620         34               1   \n",
              "\n",
              "          removed_feature_s  \n",
              "0                      none  \n",
              "1               mean radius  \n",
              "2              mean texture  \n",
              "3                 mean area  \n",
              "4            mean perimeter  \n",
              "5           mean smoothness  \n",
              "6          mean compactness  \n",
              "7            mean concavity  \n",
              "8       mean concave points  \n",
              "9    mean fractal dimension  \n",
              "10            texture error  \n",
              "11          perimeter error  \n",
              "12         smoothness error  \n",
              "13        compactness error  \n",
              "14          concavity error  \n",
              "15           symmetry error  \n",
              "16          worst perimeter  \n",
              "17     concave points error  \n",
              "18             worst radius  \n",
              "19        worst compactness  \n",
              "20  worst fractal dimension  \n",
              "21         worst smoothness  \n",
              "22  fractal dimension error  \n",
              "23             radius error  \n",
              "24            mean symmetry  \n",
              "25            worst texture  \n",
              "26           worst symmetry  \n",
              "27          worst concavity  \n",
              "28               area error  \n",
              "29               worst area  "
            ]
          },
          "execution_count": 54,
          "metadata": {},
          "output_type": "execute_result"
        }
      ]
    },
    {
      "cell_type": "code",
      "metadata": {
        "id": "CbhaR9RopIiL",
        "outputId": "25238d95-5372-4495-dfc7-bd9bf28c9d4e"
      },
      "source": [
        "#highest cross validation accuracy (how many features? which features? What K?) in standardized data\n",
        "select_feature_dfs[select_feature_dfs['cross-validation accuracy_s']==max(select_feature_dfs['cross-validation accuracy_s'])]"
      ],
      "execution_count": null,
      "outputs": [
        {
          "data": {
            "text/html": [
              "<div>\n",
              "<style scoped>\n",
              "    .dataframe tbody tr th:only-of-type {\n",
              "        vertical-align: middle;\n",
              "    }\n",
              "\n",
              "    .dataframe tbody tr th {\n",
              "        vertical-align: top;\n",
              "    }\n",
              "\n",
              "    .dataframe thead th {\n",
              "        text-align: right;\n",
              "    }\n",
              "</style>\n",
              "<table border=\"1\" class=\"dataframe\">\n",
              "  <thead>\n",
              "    <tr style=\"text-align: right;\">\n",
              "      <th></th>\n",
              "      <th>cross-validation accuracy_s</th>\n",
              "      <th>optimal k</th>\n",
              "      <th>num of feature</th>\n",
              "      <th>removed_feature_s</th>\n",
              "    </tr>\n",
              "  </thead>\n",
              "  <tbody>\n",
              "    <tr>\n",
              "      <th>24</th>\n",
              "      <td>0.9675</td>\n",
              "      <td>8</td>\n",
              "      <td>6</td>\n",
              "      <td>mean symmetry</td>\n",
              "    </tr>\n",
              "  </tbody>\n",
              "</table>\n",
              "</div>"
            ],
            "text/plain": [
              "    cross-validation accuracy_s  optimal k  num of feature removed_feature_s\n",
              "24                       0.9675          8               6     mean symmetry"
            ]
          },
          "execution_count": 56,
          "metadata": {},
          "output_type": "execute_result"
        }
      ]
    },
    {
      "cell_type": "code",
      "metadata": {
        "id": "DWzRDebypIiM",
        "outputId": "02754b51-064e-4148-bf82-005a71f04b7c"
      },
      "source": [
        "select_feature_df"
      ],
      "execution_count": null,
      "outputs": [
        {
          "data": {
            "text/html": [
              "<div>\n",
              "<style scoped>\n",
              "    .dataframe tbody tr th:only-of-type {\n",
              "        vertical-align: middle;\n",
              "    }\n",
              "\n",
              "    .dataframe tbody tr th {\n",
              "        vertical-align: top;\n",
              "    }\n",
              "\n",
              "    .dataframe thead th {\n",
              "        text-align: right;\n",
              "    }\n",
              "</style>\n",
              "<table border=\"1\" class=\"dataframe\">\n",
              "  <thead>\n",
              "    <tr style=\"text-align: right;\">\n",
              "      <th></th>\n",
              "      <th>cross-validation accuracy</th>\n",
              "      <th>optimal k</th>\n",
              "      <th>num of feature</th>\n",
              "      <th>removed_feature</th>\n",
              "    </tr>\n",
              "  </thead>\n",
              "  <tbody>\n",
              "    <tr>\n",
              "      <th>0</th>\n",
              "      <td>0.934652</td>\n",
              "      <td>10</td>\n",
              "      <td>30</td>\n",
              "      <td>none</td>\n",
              "    </tr>\n",
              "    <tr>\n",
              "      <th>1</th>\n",
              "      <td>0.934652</td>\n",
              "      <td>10</td>\n",
              "      <td>29</td>\n",
              "      <td>mean radius</td>\n",
              "    </tr>\n",
              "    <tr>\n",
              "      <th>2</th>\n",
              "      <td>0.934652</td>\n",
              "      <td>11</td>\n",
              "      <td>28</td>\n",
              "      <td>mean texture</td>\n",
              "    </tr>\n",
              "    <tr>\n",
              "      <th>3</th>\n",
              "      <td>0.932152</td>\n",
              "      <td>7</td>\n",
              "      <td>27</td>\n",
              "      <td>mean area</td>\n",
              "    </tr>\n",
              "    <tr>\n",
              "      <th>4</th>\n",
              "      <td>0.914589</td>\n",
              "      <td>34</td>\n",
              "      <td>26</td>\n",
              "      <td>mean perimeter</td>\n",
              "    </tr>\n",
              "    <tr>\n",
              "      <th>5</th>\n",
              "      <td>0.914589</td>\n",
              "      <td>34</td>\n",
              "      <td>25</td>\n",
              "      <td>mean smoothness</td>\n",
              "    </tr>\n",
              "    <tr>\n",
              "      <th>6</th>\n",
              "      <td>0.914589</td>\n",
              "      <td>34</td>\n",
              "      <td>24</td>\n",
              "      <td>mean compactness</td>\n",
              "    </tr>\n",
              "    <tr>\n",
              "      <th>7</th>\n",
              "      <td>0.914589</td>\n",
              "      <td>34</td>\n",
              "      <td>23</td>\n",
              "      <td>mean concavity</td>\n",
              "    </tr>\n",
              "    <tr>\n",
              "      <th>8</th>\n",
              "      <td>0.914589</td>\n",
              "      <td>34</td>\n",
              "      <td>22</td>\n",
              "      <td>mean concave points</td>\n",
              "    </tr>\n",
              "    <tr>\n",
              "      <th>9</th>\n",
              "      <td>0.914589</td>\n",
              "      <td>34</td>\n",
              "      <td>21</td>\n",
              "      <td>mean fractal dimension</td>\n",
              "    </tr>\n",
              "    <tr>\n",
              "      <th>10</th>\n",
              "      <td>0.914589</td>\n",
              "      <td>34</td>\n",
              "      <td>20</td>\n",
              "      <td>texture error</td>\n",
              "    </tr>\n",
              "    <tr>\n",
              "      <th>11</th>\n",
              "      <td>0.914589</td>\n",
              "      <td>34</td>\n",
              "      <td>19</td>\n",
              "      <td>perimeter error</td>\n",
              "    </tr>\n",
              "    <tr>\n",
              "      <th>12</th>\n",
              "      <td>0.914589</td>\n",
              "      <td>34</td>\n",
              "      <td>18</td>\n",
              "      <td>smoothness error</td>\n",
              "    </tr>\n",
              "    <tr>\n",
              "      <th>13</th>\n",
              "      <td>0.914589</td>\n",
              "      <td>34</td>\n",
              "      <td>17</td>\n",
              "      <td>compactness error</td>\n",
              "    </tr>\n",
              "    <tr>\n",
              "      <th>14</th>\n",
              "      <td>0.914589</td>\n",
              "      <td>34</td>\n",
              "      <td>16</td>\n",
              "      <td>concavity error</td>\n",
              "    </tr>\n",
              "    <tr>\n",
              "      <th>15</th>\n",
              "      <td>0.914589</td>\n",
              "      <td>34</td>\n",
              "      <td>15</td>\n",
              "      <td>symmetry error</td>\n",
              "    </tr>\n",
              "    <tr>\n",
              "      <th>16</th>\n",
              "      <td>0.914557</td>\n",
              "      <td>61</td>\n",
              "      <td>14</td>\n",
              "      <td>worst perimeter</td>\n",
              "    </tr>\n",
              "    <tr>\n",
              "      <th>17</th>\n",
              "      <td>0.904494</td>\n",
              "      <td>1</td>\n",
              "      <td>13</td>\n",
              "      <td>concave points error</td>\n",
              "    </tr>\n",
              "    <tr>\n",
              "      <th>18</th>\n",
              "      <td>0.904494</td>\n",
              "      <td>1</td>\n",
              "      <td>12</td>\n",
              "      <td>worst radius</td>\n",
              "    </tr>\n",
              "    <tr>\n",
              "      <th>19</th>\n",
              "      <td>0.904494</td>\n",
              "      <td>1</td>\n",
              "      <td>11</td>\n",
              "      <td>worst compactness</td>\n",
              "    </tr>\n",
              "    <tr>\n",
              "      <th>20</th>\n",
              "      <td>0.902057</td>\n",
              "      <td>5</td>\n",
              "      <td>10</td>\n",
              "      <td>worst fractal dimension</td>\n",
              "    </tr>\n",
              "    <tr>\n",
              "      <th>21</th>\n",
              "      <td>0.902057</td>\n",
              "      <td>5</td>\n",
              "      <td>9</td>\n",
              "      <td>worst smoothness</td>\n",
              "    </tr>\n",
              "    <tr>\n",
              "      <th>22</th>\n",
              "      <td>0.902057</td>\n",
              "      <td>5</td>\n",
              "      <td>8</td>\n",
              "      <td>fractal dimension error</td>\n",
              "    </tr>\n",
              "    <tr>\n",
              "      <th>23</th>\n",
              "      <td>0.902057</td>\n",
              "      <td>5</td>\n",
              "      <td>7</td>\n",
              "      <td>radius error</td>\n",
              "    </tr>\n",
              "    <tr>\n",
              "      <th>24</th>\n",
              "      <td>0.902057</td>\n",
              "      <td>5</td>\n",
              "      <td>6</td>\n",
              "      <td>mean symmetry</td>\n",
              "    </tr>\n",
              "    <tr>\n",
              "      <th>25</th>\n",
              "      <td>0.902057</td>\n",
              "      <td>5</td>\n",
              "      <td>5</td>\n",
              "      <td>worst texture</td>\n",
              "    </tr>\n",
              "    <tr>\n",
              "      <th>26</th>\n",
              "      <td>0.899367</td>\n",
              "      <td>3</td>\n",
              "      <td>4</td>\n",
              "      <td>worst symmetry</td>\n",
              "    </tr>\n",
              "    <tr>\n",
              "      <th>27</th>\n",
              "      <td>0.899367</td>\n",
              "      <td>3</td>\n",
              "      <td>3</td>\n",
              "      <td>worst concavity</td>\n",
              "    </tr>\n",
              "    <tr>\n",
              "      <th>28</th>\n",
              "      <td>0.912057</td>\n",
              "      <td>38</td>\n",
              "      <td>2</td>\n",
              "      <td>area error</td>\n",
              "    </tr>\n",
              "    <tr>\n",
              "      <th>29</th>\n",
              "      <td>0.924620</td>\n",
              "      <td>34</td>\n",
              "      <td>1</td>\n",
              "      <td>worst area</td>\n",
              "    </tr>\n",
              "  </tbody>\n",
              "</table>\n",
              "</div>"
            ],
            "text/plain": [
              "    cross-validation accuracy  optimal k  num of feature  \\\n",
              "0                    0.934652         10              30   \n",
              "1                    0.934652         10              29   \n",
              "2                    0.934652         11              28   \n",
              "3                    0.932152          7              27   \n",
              "4                    0.914589         34              26   \n",
              "5                    0.914589         34              25   \n",
              "6                    0.914589         34              24   \n",
              "7                    0.914589         34              23   \n",
              "8                    0.914589         34              22   \n",
              "9                    0.914589         34              21   \n",
              "10                   0.914589         34              20   \n",
              "11                   0.914589         34              19   \n",
              "12                   0.914589         34              18   \n",
              "13                   0.914589         34              17   \n",
              "14                   0.914589         34              16   \n",
              "15                   0.914589         34              15   \n",
              "16                   0.914557         61              14   \n",
              "17                   0.904494          1              13   \n",
              "18                   0.904494          1              12   \n",
              "19                   0.904494          1              11   \n",
              "20                   0.902057          5              10   \n",
              "21                   0.902057          5               9   \n",
              "22                   0.902057          5               8   \n",
              "23                   0.902057          5               7   \n",
              "24                   0.902057          5               6   \n",
              "25                   0.902057          5               5   \n",
              "26                   0.899367          3               4   \n",
              "27                   0.899367          3               3   \n",
              "28                   0.912057         38               2   \n",
              "29                   0.924620         34               1   \n",
              "\n",
              "            removed_feature  \n",
              "0                      none  \n",
              "1               mean radius  \n",
              "2              mean texture  \n",
              "3                 mean area  \n",
              "4            mean perimeter  \n",
              "5           mean smoothness  \n",
              "6          mean compactness  \n",
              "7            mean concavity  \n",
              "8       mean concave points  \n",
              "9    mean fractal dimension  \n",
              "10            texture error  \n",
              "11          perimeter error  \n",
              "12         smoothness error  \n",
              "13        compactness error  \n",
              "14          concavity error  \n",
              "15           symmetry error  \n",
              "16          worst perimeter  \n",
              "17     concave points error  \n",
              "18             worst radius  \n",
              "19        worst compactness  \n",
              "20  worst fractal dimension  \n",
              "21         worst smoothness  \n",
              "22  fractal dimension error  \n",
              "23             radius error  \n",
              "24            mean symmetry  \n",
              "25            worst texture  \n",
              "26           worst symmetry  \n",
              "27          worst concavity  \n",
              "28               area error  \n",
              "29               worst area  "
            ]
          },
          "execution_count": 55,
          "metadata": {},
          "output_type": "execute_result"
        }
      ]
    },
    {
      "cell_type": "code",
      "metadata": {
        "id": "nXBu_7jnpIiM",
        "outputId": "38b48593-265a-4164-f9ab-829e2b7270d5"
      },
      "source": [
        "#highest cross validation accuracy (how many features? which features? What K?) in original data \n",
        "select_feature_df[select_feature_df['cross-validation accuracy']==max(select_feature_df['cross-validation accuracy'])]"
      ],
      "execution_count": null,
      "outputs": [
        {
          "data": {
            "text/html": [
              "<div>\n",
              "<style scoped>\n",
              "    .dataframe tbody tr th:only-of-type {\n",
              "        vertical-align: middle;\n",
              "    }\n",
              "\n",
              "    .dataframe tbody tr th {\n",
              "        vertical-align: top;\n",
              "    }\n",
              "\n",
              "    .dataframe thead th {\n",
              "        text-align: right;\n",
              "    }\n",
              "</style>\n",
              "<table border=\"1\" class=\"dataframe\">\n",
              "  <thead>\n",
              "    <tr style=\"text-align: right;\">\n",
              "      <th></th>\n",
              "      <th>cross-validation accuracy</th>\n",
              "      <th>optimal k</th>\n",
              "      <th>num of feature</th>\n",
              "      <th>removed_feature</th>\n",
              "    </tr>\n",
              "  </thead>\n",
              "  <tbody>\n",
              "    <tr>\n",
              "      <th>0</th>\n",
              "      <td>0.934652</td>\n",
              "      <td>10</td>\n",
              "      <td>30</td>\n",
              "      <td>none</td>\n",
              "    </tr>\n",
              "    <tr>\n",
              "      <th>1</th>\n",
              "      <td>0.934652</td>\n",
              "      <td>10</td>\n",
              "      <td>29</td>\n",
              "      <td>mean radius</td>\n",
              "    </tr>\n",
              "    <tr>\n",
              "      <th>2</th>\n",
              "      <td>0.934652</td>\n",
              "      <td>11</td>\n",
              "      <td>28</td>\n",
              "      <td>mean texture</td>\n",
              "    </tr>\n",
              "  </tbody>\n",
              "</table>\n",
              "</div>"
            ],
            "text/plain": [
              "   cross-validation accuracy  optimal k  num of feature removed_feature\n",
              "0                   0.934652         10              30            none\n",
              "1                   0.934652         10              29     mean radius\n",
              "2                   0.934652         11              28    mean texture"
            ]
          },
          "execution_count": 57,
          "metadata": {},
          "output_type": "execute_result"
        }
      ]
    },
    {
      "cell_type": "markdown",
      "metadata": {
        "id": "CjZk-iOXpIiN"
      },
      "source": [
        "<b>Question</b>:Discuss how standardization (helped/hurt) your model and its performance? Discuss which cases lead to a higher cross validation accuracy (how many features? which features? What K?) \n",
        "<p>From the plot above,we learn that the blue line(which reprensents the accuracy after standardization) is higher than the orange line(which represents the original accuracy before standardization) at any number of features greater than 1. Clearly, the standardization <b>helped</b> my model improving the accuracy of predictions. Even though there's only 2 features left in the model, the accuracy greatly improves after standardization(i.e.from  0.912057 to 0.949652). Moreover, based on the outputs we got from the function Feature_selector, 6 features in standardized data has the highest cross validation accuracy 0.9675 with a tunned k=8.The 6 important features are:worst texture, worst symmetry, worst concavity, area error, worst area, and worst concave points.Whereas the original data have the highest accuracy 0.934652 with tunned k=10, and it has 28 features with all features in the original data excepting mean radius and mean texture. Therefore, by doing standardization, we are able to reduced the dimension of the model with a even higher cross-validation accuracy. The efficiency greatly improves, as well as the accuracy does."
      ]
    },
    {
      "cell_type": "markdown",
      "metadata": {
        "id": "k7QjKjHn2TZR"
      },
      "source": [
        "## Part 5: Test Data [0.5 Mark]\n",
        "\n",
        "Now that you've created several models, pick your best one (highest CV accuracy) and apply it to the test dataset you had initially set aside. Discuss your results. **[0.5]**"
      ]
    },
    {
      "cell_type": "code",
      "metadata": {
        "id": "acdJ7EijBYqB",
        "outputId": "6e92c5c1-b67c-43e1-dcfc-3436c46e849d"
      },
      "source": [
        "#from part4 we have the best model with the highest accuracy with only 6 features and a tunned k=8\n",
        "knn_8 = neighbors.KNeighborsClassifier(n_neighbors=8)\n",
        "train_X8=train_X_standard[['worst texture','worst symmetry','worst concavity','area error','worst area','worst concave points']]\n",
        "test_X_standard=pd.DataFrame(data=test_X_scaler,columns=test_X.columns)\n",
        "test_X8=test_X_standard[['worst texture','worst symmetry','worst concavity','area error','worst area','worst concave points']]\n",
        "scores_8 = cross_validate(knn_8, train_X8, train_y_standard, cv=5, return_train_score=True)\n",
        "print('Mean Validation Accuracy:', scores_8['test_score'].mean())\n"
      ],
      "execution_count": null,
      "outputs": [
        {
          "name": "stdout",
          "output_type": "stream",
          "text": [
            "Mean Validation Accuracy: 0.9675\n"
          ]
        }
      ]
    },
    {
      "cell_type": "code",
      "metadata": {
        "id": "Ua_UMSKdpIiP",
        "outputId": "996b2a27-c0ce-4431-e4f4-df50746aea9d"
      },
      "source": [
        "#fit the model and apply it to the test set\n",
        "from sklearn.metrics import accuracy_score\n",
        "knn_8.fit(train_X8,train_y_standard)\n",
        "predict_accuracy = accuracy_score(test_y, knn_8.predict(test_X8))\n",
        "print (\"Test set accuracy: \", predict_accuracy * 100, \"%\")"
      ],
      "execution_count": null,
      "outputs": [
        {
          "name": "stdout",
          "output_type": "stream",
          "text": [
            "Test set accuracy:  93.56725146198829 %\n"
          ]
        }
      ]
    },
    {
      "cell_type": "markdown",
      "metadata": {
        "id": "zVm4YntHpIiQ"
      },
      "source": [
        "From the results above, we learn that our knn model with k=8 has a accuracy of 93.6% on the test set. It is a bit smaller than the validation accuracy 96.75%. However, it is acceptable because the model's hyperparameters tunning only for the validation dataset(in our case is training set), not the test set. This model is the best model we can get on seen data which has the best generalization ability to unseen data. As it is only 3% smaller, the results are still pretty good."
      ]
    },
    {
      "cell_type": "markdown",
      "metadata": {
        "id": "yhCf82AOe3IS"
      },
      "source": [
        "References:\n",
        "\n",
        "https://towardsdatascience.com/decision-trees-in-machine-learning-641b9c4e8052\n",
        "\n",
        "https://www.analyticsvidhya.com/blog/2021/02/machine-learning-101-decision-tree-algorithm-for-classification/"
      ]
    }
  ]
}